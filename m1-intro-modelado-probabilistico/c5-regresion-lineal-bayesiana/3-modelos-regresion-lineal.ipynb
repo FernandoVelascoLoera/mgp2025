{
 "cells": [
  {
   "cell_type": "markdown",
   "id": "5cb45422",
   "metadata": {},
   "source": [
    "# Modelos de regresión lineal\n",
    "\n",
    "![BLR](https://upload.wikimedia.org/wikipedia/commons/e/ed/Bayes_icon.svg)\n",
    "\n",
    "Hasta ahora hemos visto modelos de regresión lineal, usando inferencia exacta para la estimación de la distribución posterior de los parámetros, bajo un caso particular (suponiendo la varianza de la dispersión conocida). Si quisiéramos asumir previas distintas a la normal para los parámetros, incluyendo una previa para el parámetro de varianza, entonces la inferencia exacta de la distribución posterior se vuelve prácticamente imposible.\n",
    "\n",
    "En este tema, estudiamos el uso de muestreo de la distribución posterior usando técnicas Montecarlo, dándonos la libertad de elegir la previa que mejor represente nuestro conocimiento de la situación.\n",
    "\n",
    "> **Objetivos:**\n",
    "> - Revisitar modelos de predicción lineal desde una perspectiva de Montecarlo.\n",
    "\n",
    "> **Referencias:**\n",
    "> \n",
    "> - Statistical Rethinking: A Bayesian Course with Examples in R and Stan (2nd edition) - Richard McElreath."
   ]
  },
  {
   "cell_type": "markdown",
   "id": "07d4dca4-d37d-4e94-9012-58426550ba35",
   "metadata": {},
   "source": [
    "## 1. Predicción lineal\n",
    "\n",
    "Lo que acabamos de ver es un modelo Gaussiano para la altura de una población de adultos. Sin embargo, este modelo no tiene el componente de *regresión*.\n",
    "\n",
    "Es común que queramos modelar como el resultado de cierta variable se relaciona con otra(s) variable(s), llamada(s) **predictor(es)**. Si el predictor tiene alguna asociación estadística con la variable de interés, la podemos usar para *predecir* dicha variable.\n",
    "\n",
    "En este caso estudiaremos como incluir estos predictores de forma lineal en el modelo. \n",
    "\n",
    "Seguiremos usando los datos de los adultos en la población, pero esta vez, veremos como la altura se relaciona con el peso:"
   ]
  },
  {
   "cell_type": "code",
   "execution_count": 1,
   "id": "0a0f40b5",
   "metadata": {},
   "outputs": [],
   "source": [
    "# Importar pandas\n"
   ]
  },
  {
   "cell_type": "code",
   "execution_count": 2,
   "id": "bc80c98c",
   "metadata": {},
   "outputs": [],
   "source": [
    "# Leer datos (separados por ;)\n"
   ]
  },
  {
   "cell_type": "code",
   "execution_count": 3,
   "id": "4d9d2855",
   "metadata": {},
   "outputs": [],
   "source": [
    "# Extraer datos de adultos\n"
   ]
  },
  {
   "cell_type": "code",
   "execution_count": null,
   "id": "2b0ef428-bd76-40a7-af3a-8a6015172b63",
   "metadata": {},
   "outputs": [],
   "source": [
    "# Algunas filas\n"
   ]
  },
  {
   "cell_type": "code",
   "execution_count": 6,
   "id": "ed98eba5",
   "metadata": {},
   "outputs": [],
   "source": []
  },
  {
   "cell_type": "code",
   "execution_count": null,
   "id": "77b6625b-eacd-48fe-b6d5-6873c1edf04f",
   "metadata": {},
   "outputs": [],
   "source": [
    "# Scatter plot\n"
   ]
  },
  {
   "cell_type": "markdown",
   "id": "465752fe-6179-4d75-9155-70146de35668",
   "metadata": {},
   "source": [
    "Del gráfico anterior, observamos que en definitiva hay una relación marcada entre la altura y el peso. Es decir, conocer el peso de una persona nos ayuda a predecir su altura.\n",
    "\n",
    "**¿Cómo adecuamos el modelo de la altura para incluir el peso como predictor?**\n",
    "\n",
    "La estrategia es modificar el parámetro $\\mu$ de la distribución Gaussiana, para que sea una función lineal del predictor. Ahora, para los parámetros de esta función, tendremos que declarar distribuciones previas.\n",
    "\n",
    "De forma que, teníamos:\n",
    "\n",
    "$$\n",
    "\\begin{align}\n",
    "\\begin{array}{lcl}\n",
    "h_i & \\sim & \\text{Normal}(\\mu, \\sigma) \\\\\n",
    "\\mu & \\sim & \\text{Normal}(170, 20) \\\\\n",
    "\\sigma & \\sim & \\text{Uniform}(0, 50)\n",
    "\\end{array}\n",
    "\\end{align}\n",
    "$$\n",
    "\n",
    "Ahora, sea $w_i$ el peso de la persona $i$ y sean $\\bar{w}$ el promedio de todos los pesos. De esta forma:\n",
    "\n",
    "$$\n",
    "\\begin{align}\n",
    "\\begin{array}{lcl}\n",
    "h_i & \\sim & \\text{Normal}(\\mu_i, \\sigma) \\\\\n",
    "\\mu_i & = & \\alpha + \\beta(w_i - \\bar{w}) \\\\\n",
    "\\alpha & \\sim & \\text{Normal}(170, 20) \\\\\n",
    "\\beta & \\sim & \\text{Normal}(0, 10) \\\\\n",
    "\\sigma & \\sim & \\text{Uniform}(0, 50)\n",
    "\\end{array}\n",
    "\\end{align}\n",
    "$$"
   ]
  },
  {
   "cell_type": "markdown",
   "id": "c50dab11-8cfb-4e6c-9d82-bf4755058103",
   "metadata": {},
   "source": [
    "*¿Qué significa esto?*\n",
    "\n",
    "- Como antes, la primera expresión es la verosimilitud (probabilidad de los datos). Es casi la misma expresión, nada más notemos que cambiamos la media general $\\mu$, por una media $\\mu_i$ para cada observación. Es decir, la media depende de los valores específicos de cada observación.\n",
    "\n",
    "- La segunda expresión, corresponde al modelo lineal. $\\mu$ ya no es un parámetro que estimemos, sino una relación determinista (notar el símbolo $=$ en lugar de $\\sim$) a los nuevos parámetros $\\alpha$ y $\\beta$, y que depende de la variable observada $w_i$.\n",
    "\n",
    "  ¿Porqué incluir como predictor $w_i - \\bar{w}$ en lugar de símplemente $w_i$? Algo importante cuando modelamos es poder entender los parámetros que estamos introduciendo. Notemos que de la manera en que especificamos el modelo $\\mu=\\alpha$ cuando $w_i=\\bar{w}$; es decir, $\\alpha$ es el valor esperado de la altura cuando el peso es promedio.\n",
    "\n",
    "  ¿Y qué pasa con $\\beta$? Bueno, pues el parámetro $\\beta$ es el cambio esperado en la altura, cuando el peso cambia $1$ unidad (kg).\n",
    "\n",
    "- Las demás expresiones, como antes, son las previas de nuestros parámetros, que deberemos ajustar con una debida simulación predictiva previa de ser necesario."
   ]
  },
  {
   "cell_type": "code",
   "execution_count": 10,
   "id": "a7aa4894",
   "metadata": {},
   "outputs": [],
   "source": [
    "# Importart scipy.stats\n",
    "\n",
    "# Importar numpy\n"
   ]
  },
  {
   "cell_type": "code",
   "execution_count": null,
   "id": "01b7a1fb-f9fc-4333-ba4b-160450caf046",
   "metadata": {},
   "outputs": [],
   "source": [
    "# Simulación previa predictiva\n"
   ]
  },
  {
   "cell_type": "markdown",
   "id": "834a75f1-f4f4-40c3-b621-36a947b75c32",
   "metadata": {},
   "source": [
    "Observamos que usando estas previas, las la altura promedio puede llegar a tomar valores bastante extremos para valores normales del peso. Podemos hacer algo mejor.\n",
    "\n",
    "De la gráfica de puntos, observamos que la relación entre la altura y el peso es positiva. Una manera común de restringir un parámetro a que sea positivo es usando la distribución $\\text{Log-Normal}$. Si definimos $\\beta$ como $\\text{Log-Normal}(0, 1)$, significa que el logaritmo de $\\beta$ tiene una distribución $\\text{Normal}(0, 1)$:\n",
    "\n",
    "$$\n",
    "\\beta \\sim \\text{Log-Normal}(0, 1)\n",
    "$$"
   ]
  },
  {
   "cell_type": "code",
   "execution_count": null,
   "id": "3cca6ee2-9d2b-4c82-9ca4-ec77a5414315",
   "metadata": {},
   "outputs": [],
   "source": [
    "# Densidad lognormal\n"
   ]
  },
  {
   "cell_type": "code",
   "execution_count": null,
   "id": "ead346ba",
   "metadata": {},
   "outputs": [],
   "source": []
  },
  {
   "cell_type": "code",
   "execution_count": null,
   "id": "ea185d40-ab1f-4439-9acf-77f3ce464e83",
   "metadata": {},
   "outputs": [],
   "source": [
    "# Simulación previa predictiva\n"
   ]
  },
  {
   "cell_type": "markdown",
   "id": "b3452380-1830-4dab-b96b-c7ed3a631952",
   "metadata": {},
   "source": [
    "¡Esto se ve mucho mejor!\n",
    "\n",
    "De forma que nuestro modelo completo es:\n",
    "\n",
    "$$\n",
    "\\begin{align}\n",
    "\\begin{array}{lcl}\n",
    "h_i & \\sim & \\text{Normal}(\\mu_i, \\sigma) \\\\\n",
    "\\mu_i & = & \\alpha + \\beta(w_i - \\bar{w}) \\\\\n",
    "\\alpha & \\sim & \\text{Normal}(170, 20) \\\\\n",
    "\\beta & \\sim & \\text{Log-Normal}(0, 1) \\\\\n",
    "\\sigma & \\sim & \\text{Uniform}(0, 50)\n",
    "\\end{array}\n",
    "\\end{align}\n",
    "$$\n",
    "\n",
    "**Estimemos la distribución posterior usando MCMC:**"
   ]
  },
  {
   "cell_type": "code",
   "execution_count": 27,
   "id": "c05009f0",
   "metadata": {},
   "outputs": [],
   "source": [
    "# Importar pymc\n",
    "\n",
    "# Importar arviz\n"
   ]
  },
  {
   "cell_type": "code",
   "execution_count": null,
   "id": "c6942280-81a4-40ac-bfda-8be6db2db9a9",
   "metadata": {},
   "outputs": [],
   "source": [
    "# Peso\n",
    "\n",
    "# Peso promedio\n",
    "\n",
    "# Modelo\n",
    "\n",
    "    # Sigma\n",
    "    \n",
    "    # alpha y beta\n",
    "        \n",
    "    # Mu\n",
    "    \n",
    "    # Altura\n",
    "    \n",
    "    # Muestreo\n",
    "    "
   ]
  },
  {
   "cell_type": "code",
   "execution_count": null,
   "id": "0a84ad94-4925-47f2-974f-859200a4e0b6",
   "metadata": {},
   "outputs": [],
   "source": [
    "# Distribución posterior de los parámetros\n"
   ]
  },
  {
   "cell_type": "code",
   "execution_count": null,
   "id": "5ba8a540-e123-4f30-b4a5-f777b1c20e74",
   "metadata": {},
   "outputs": [],
   "source": [
    "# az.plot_posterior\n"
   ]
  },
  {
   "cell_type": "markdown",
   "id": "21fbed2e-42a9-403b-ab5d-b670c4e5c2c7",
   "metadata": {},
   "source": [
    "¿Qué podemos decir?\n",
    "\n",
    "- La altura promedio, al peso promedio está alrededor de 155 cm.\n",
    "\n",
    "- Por cada 1 kg adicional, se espera que la altura sea ~0.90 cm mayor.\n",
    "\n",
    "- El 94% de la probabilidad de la distribución posterior de $\\beta$ yace entre 0.82 y 0.98, lo que indica que valores cercanos a cero y valores mayores a uno, no son compatibles con los datos y el modelo."
   ]
  },
  {
   "cell_type": "markdown",
   "id": "312eda6d-fdc9-428e-9820-ba45d3fedbd5",
   "metadata": {},
   "source": [
    "**Predicciones con la posterior**\n",
    "\n",
    "La idea principal de este modelo es hacer predicciones con él. Veamos como hacerlo.\n",
    "\n",
    "Lo primero que podríamos hacer es tomar el promedio de las muestras de $\\alpha$ y $\\beta$, y graficar la relación promedio:"
   ]
  },
  {
   "cell_type": "code",
   "execution_count": null,
   "id": "ba1cdb8d-b497-428c-861f-01ad56b35898",
   "metadata": {},
   "outputs": [],
   "source": [
    "# Objeto de muestreo\n"
   ]
  },
  {
   "cell_type": "code",
   "execution_count": null,
   "id": "b5ce1773-ab2d-48c4-9a6b-ff607ddd7105",
   "metadata": {},
   "outputs": [],
   "source": [
    "# Relación promedio\n"
   ]
  },
  {
   "cell_type": "markdown",
   "id": "67a208bf-03c1-45b2-9dad-e9f0a2039de0",
   "metadata": {},
   "source": [
    "Esta relación promedio (al tratarse el modelo de una normal) no es más que la línea promedio; la línea más plausible en el conjunto infinito de lineas en la distribución posterior.\n",
    "\n",
    "Sin embargo, a esto le podemos añadir la incertidumbre alrededor de la media, graficando algunas líneas muestreadas de la posterior:"
   ]
  },
  {
   "cell_type": "code",
   "execution_count": null,
   "id": "276b8aad-109e-4685-b1fd-e91b7d0e0ac7",
   "metadata": {},
   "outputs": [],
   "source": []
  },
  {
   "cell_type": "code",
   "execution_count": null,
   "id": "e97201f0",
   "metadata": {},
   "outputs": [],
   "source": []
  },
  {
   "cell_type": "code",
   "execution_count": null,
   "id": "e3475f33",
   "metadata": {},
   "outputs": [],
   "source": []
  },
  {
   "cell_type": "code",
   "execution_count": null,
   "id": "e50e557b-ffb6-47a5-a337-c1038b81d007",
   "metadata": {},
   "outputs": [],
   "source": [
    "# Algunas muestras de la posterior\n"
   ]
  },
  {
   "cell_type": "markdown",
   "id": "a7b0c41d-2880-4f46-b637-4ca7d81fa00e",
   "metadata": {},
   "source": [
    "Una pregunta que nos podríamos hacer es, ¿Cuánto es la altura promedio de una persona de 60kg?. Una vez más, podemos usar las muestras de la posterior para responder a esta pregunta:"
   ]
  },
  {
   "cell_type": "code",
   "execution_count": null,
   "id": "56a8b7c0-0ee0-4e54-bf87-985540e17687",
   "metadata": {},
   "outputs": [],
   "source": [
    "# mu at 60\n"
   ]
  },
  {
   "cell_type": "code",
   "execution_count": null,
   "id": "33aaf69b-7b15-45a7-8a06-61aa18ecbf61",
   "metadata": {},
   "outputs": [],
   "source": []
  },
  {
   "cell_type": "code",
   "execution_count": null,
   "id": "cc808c94-07d9-4fa0-98b3-a73ebb246954",
   "metadata": {},
   "outputs": [],
   "source": [
    "# kde plot\n"
   ]
  },
  {
   "cell_type": "code",
   "execution_count": null,
   "id": "0f723c08-9a26-40d5-a46b-8411ea352eb0",
   "metadata": {},
   "outputs": [],
   "source": [
    "# az.hdi\n"
   ]
  },
  {
   "cell_type": "markdown",
   "id": "2f932025-1c07-4dec-b722-6b3a39070370",
   "metadata": {},
   "source": [
    "La altura promedio (89%) está entre 167 cm y 169 cm (condicional al modelo y los datos), dado que el peso es 60 kg."
   ]
  },
  {
   "cell_type": "markdown",
   "id": "fdfde11c-896d-40f5-a3c9-5b456596a225",
   "metadata": {},
   "source": [
    "**¿Y $\\sigma$?**\n",
    "\n",
    "Recordemos que el modelo de la altura era:\n",
    "\n",
    "$$\n",
    "h_i \\sim \\text{Normal}(\\mu_i, \\sigma)\n",
    "$$\n",
    "\n",
    "y aunque hasta ahora solo hemos hablado de $\\mu$, la variación fuera del promedio es bastante importante.\n",
    "\n",
    "Primero, generamos las muestras de predicción. Como antes, podríamos hacerlo a mano, pero pymc lo puede hacer por nosotros:"
   ]
  },
  {
   "cell_type": "code",
   "execution_count": null,
   "id": "ac796f8b",
   "metadata": {},
   "outputs": [],
   "source": [
    "# Peso\n",
    "\n",
    "# Peso promedio\n",
    "\n",
    "# Modelo\n",
    "\n",
    "    # Sigma\n",
    "    \n",
    "    # alpha y beta\n",
    "    \n",
    "    \n",
    "    # Mu\n",
    "    \n",
    "    # Altura\n",
    "    \n",
    "    # Muestreo\n",
    "    "
   ]
  },
  {
   "cell_type": "code",
   "execution_count": null,
   "id": "06b2be99",
   "metadata": {},
   "outputs": [],
   "source": []
  },
  {
   "cell_type": "code",
   "execution_count": null,
   "id": "29f4a0de-6a16-477a-b8d8-c312127bf0b6",
   "metadata": {},
   "outputs": [],
   "source": [
    "# Generamos muestras predictivas de la posterior\n"
   ]
  },
  {
   "cell_type": "code",
   "execution_count": null,
   "id": "d03a6564",
   "metadata": {},
   "outputs": [],
   "source": []
  },
  {
   "cell_type": "code",
   "execution_count": null,
   "id": "cb9b888f",
   "metadata": {},
   "outputs": [],
   "source": []
  },
  {
   "cell_type": "code",
   "execution_count": null,
   "id": "a7ca62e9-24fa-42fd-a99f-8f464cfde2f2",
   "metadata": {},
   "outputs": [],
   "source": [
    "# Intervalo de credibilidad de la altura\n",
    "\n",
    "# Intervalo de credibilidad de la altura promedio\n",
    "\n",
    "# Línea promedio\n",
    "\n",
    "# Nube de puntos\n"
   ]
  },
  {
   "cell_type": "markdown",
   "id": "05e5cb95",
   "metadata": {},
   "source": [
    "## 2. Evaluación del modelo\n",
    "\n",
    "Hasta ahorita usamos los mismos datos para visualizar las predicciones de nuestro modelo. ¿Cómo podemos hacer una evaluación real del modelo para fines predictivos?"
   ]
  },
  {
   "cell_type": "code",
   "execution_count": null,
   "id": "c7616204",
   "metadata": {},
   "outputs": [],
   "source": [
    "# Separamos datos de entrenamiento y prueba\n"
   ]
  },
  {
   "cell_type": "code",
   "execution_count": null,
   "id": "3f0af42e",
   "metadata": {},
   "outputs": [],
   "source": [
    "# Peso (entrenamiento)\n",
    "\n",
    "# Peso promedio\n",
    "\n",
    "# Modelo\n",
    "\n",
    "    # Peso como variable mutable\n",
    "\n",
    "    # Sigma\n",
    "\n",
    "    # a y b\n",
    "\n",
    "\n",
    "    # Mu\n",
    "\n",
    "    # Altura\n",
    "    \n",
    "    # Muestreo\n"
   ]
  },
  {
   "cell_type": "code",
   "execution_count": null,
   "id": "bbbad375",
   "metadata": {},
   "outputs": [],
   "source": [
    "# Con el modelo entrenado predecimos sobre datos de prueba\n",
    "\n",
    "# Generamos muestras predictivas de la posterior\n",
    "\n",
    "    # Actualizamos valores de w\n",
    "\n",
    "    # Muestreo de la posterior predictiva\n",
    "    "
   ]
  },
  {
   "cell_type": "code",
   "execution_count": null,
   "id": "89964461",
   "metadata": {},
   "outputs": [],
   "source": [
    "# Atributo predictions\n"
   ]
  },
  {
   "cell_type": "code",
   "execution_count": null,
   "id": "e61d0016",
   "metadata": {},
   "outputs": [],
   "source": [
    "# Intervalo de credibilidad de la altura\n",
    "\n",
    "# Intervalo de credibilidad de la altura promedio\n",
    "\n",
    "# Línea promedio\n",
    "\n",
    "# Nube de puntos\n"
   ]
  },
  {
   "cell_type": "code",
   "execution_count": null,
   "id": "c15af630",
   "metadata": {},
   "outputs": [],
   "source": [
    "# Importamos sklearn.metrics.r2_score, mean_squared_error\n"
   ]
  },
  {
   "cell_type": "code",
   "execution_count": null,
   "id": "3d8380da",
   "metadata": {},
   "outputs": [],
   "source": [
    "# R2\n"
   ]
  },
  {
   "cell_type": "code",
   "execution_count": null,
   "id": "84e739cd",
   "metadata": {},
   "outputs": [],
   "source": [
    "# MSE\n"
   ]
  },
  {
   "cell_type": "code",
   "execution_count": null,
   "id": "24b25dcf",
   "metadata": {},
   "outputs": [],
   "source": [
    "# % entre lower y upper de hdi\n"
   ]
  },
  {
   "cell_type": "code",
   "execution_count": null,
   "id": "1a850974",
   "metadata": {},
   "outputs": [],
   "source": [
    "# Gráfica posterior predictiva para problemas de regresión\n",
    "_, ax = plt.subplots(figsize=(8, 8))\n",
    "\n",
    "model_preds = height_post_pred.predictions\n",
    "\n",
    "# uncertainty about the estimates:\n",
    "ax.vlines(\n",
    "    test[\"height\"].values,\n",
    "    *az.hdi(model_preds)[\"altura\"].transpose(\"hdi\", ...),\n",
    "    alpha=0.8,\n",
    ")\n",
    "\n",
    "# actual outcomes:\n",
    "ax.scatter(\n",
    "    x=test[\"height\"].values,\n",
    "    y=model_preds[\"altura\"].mean((\"chain\", \"draw\")),\n",
    "    marker=\"o\",\n",
    "    color=\"k\",\n",
    "    alpha=0.8,\n",
    "    label=\"Observed outcomes\",\n",
    ")\n",
    "\n",
    "x_min = test[\"height\"].min()\n",
    "x_max = test[\"height\"].max()\n",
    "ax.plot([x_min, x_max], [x_min, x_max], linestyle=\"--\", color=\"k\", label=\"Perfect prediction\")\n",
    "ax.set_xlabel(\"Observed height\")\n",
    "ax.set_ylabel(\"Predicted height\")\n",
    "ax.set_title(\"Out-of-sample Predictions\")\n",
    "ax.legend(fontsize=10, frameon=True, framealpha=0.5);"
   ]
  },
  {
   "cell_type": "markdown",
   "id": "a4872f27",
   "metadata": {},
   "source": [
    "La anterior gráfica fue adaptada de: https://www.pymc.io/projects/docs/en/stable/learn/core_notebooks/posterior_predictive.html"
   ]
  },
  {
   "cell_type": "markdown",
   "id": "a157292a-2dd3-49e0-86f3-52e099e86d32",
   "metadata": {},
   "source": [
    "## 3. Comentarios finales\n",
    "\n",
    "Como en la clase 3, podemos usar este mismo tipo de modelos lineales en los parámetros para representar relaciones no lineales entre los datos. Podemos usar polinomios, o cualquier otro tipo de representaciones no lineales que nos interese.\n",
    "\n",
    "Por ejemplo, si consideraramos todos los datos, incluyendo los de los niños:"
   ]
  },
  {
   "cell_type": "code",
   "execution_count": null,
   "id": "c586c3cd-33cb-4659-b294-703754eae687",
   "metadata": {},
   "outputs": [],
   "source": [
    "# Scatter plot\n",
    "plt.scatter(datos_altura[\"weight\"], datos_altura[\"height\"])\n",
    "plt.xlabel(\"Weight (kg)\")\n",
    "plt.ylabel(\"Height (cm)\")"
   ]
  },
  {
   "cell_type": "markdown",
   "id": "f0ec4cf7-fc77-4247-bcc2-c032c0269d4a",
   "metadata": {},
   "source": [
    "Observamos una relación cúbica. **Tarea**\n",
    "\n",
    "**Ayuda**. Estandarizar el peso antes."
   ]
  },
  {
   "cell_type": "markdown",
   "id": "be9e7425",
   "metadata": {},
   "source": [
    "<script>\n",
    "  $(document).ready(function(){\n",
    "    $('div.prompt').hide();\n",
    "    $('div.back-to-top').hide();\n",
    "    $('nav#menubar').hide();\n",
    "    $('.breadcrumb').hide();\n",
    "    $('.hidden-print').hide();\n",
    "  });\n",
    "</script>\n",
    "\n",
    "<footer id=\"attribution\" style=\"float:right; color:#808080; background:#fff;\">\n",
    "Created with Jupyter by Esteban Jiménez Rodríguez.\n",
    "</footer>"
   ]
  }
 ],
 "metadata": {
  "kernelspec": {
   "display_name": "mebo2024_v4",
   "language": "python",
   "name": "python3"
  },
  "language_info": {
   "codemirror_mode": {
    "name": "ipython",
    "version": 3
   },
   "file_extension": ".py",
   "mimetype": "text/x-python",
   "name": "python",
   "nbconvert_exporter": "python",
   "pygments_lexer": "ipython3",
   "version": "3.9.19"
  }
 },
 "nbformat": 4,
 "nbformat_minor": 5
}
