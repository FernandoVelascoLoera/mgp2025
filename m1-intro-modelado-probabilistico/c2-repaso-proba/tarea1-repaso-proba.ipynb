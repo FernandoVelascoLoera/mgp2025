{
 "cells": [
  {
   "cell_type": "markdown",
   "metadata": {},
   "source": [
    "# Tarea 1. Repaso de teoría de probabilidad\n",
    "\n",
    "Profesor: Esteban Jimenez Rodriguez\n",
    "\n",
    "Alumno:   Fernando Velasco Loera\n",
    "\n",
    "<img style=\"float: right; margin: 0px 0px 15px 15px;\" src=\"https://storage.needpix.com/rsynced_images/bayesian-2889576_1280.png\" width=\"200px\" height=\"180px\" />\n",
    "\n",
    "Esta constituye la primera tarea del curso. Las tareas están pensadas para que afiances los conocimientos vistos en clase, repases la clase y debas darle una segunda leida. Incluso revisar otro material.\n",
    "\n",
    "Esta primera tarea contiene ejercicios para que repases conceptos básicos de teoría de probabilidad.\n",
    "\n",
    "Por favor, intenta ser lo más explícit@ posible, y en lo posible, apóyate de la escritura matemática con $\\LaTeX$.\n",
    "\n",
    "Recuerda además que ante cualquier duda, me puedes contactar al correo esjimenezro@iteso.mx.\n",
    "\n",
    "<p style=\"text-align:right;\"> Imagen recuperada de: https://storage.needpix.com/rsynced_images/bayesian-2889576_1280.png.</p>\n",
    "\n",
    "___"
   ]
  },
  {
   "cell_type": "markdown",
   "metadata": {},
   "source": [
    "## 1. \n",
    "\n",
    "Supongamos que una prueba para la COVID-19 tiene una precisión del 95%. Esto es, si el paciente está infectado, entonces el resultado de la prueba será positivo con probabilidad de 0.95, y si el paciente NO está infectado, el resutado de la prueba será negativo con probabilidad de 0.95.\n",
    "\n",
    "Además, supongamos que la probabilidad de estar infectado es de 0.017 (1.7%).\n",
    "\n",
    "Ahora, suponga que una persona tuvo un resultado de prueba positivo.\n",
    "\n",
    "1.1 ¿Cuál es la probabilidad de que esta persona esté infectada en efecto?\n"
   ]
  },
  {
   "cell_type": "markdown",
   "metadata": {},
   "source": [
    "Si el paciente SI está infectado, el resultado de la prueba será positivo con probabilidad:\n",
    "    $P(P | I) = 0.95$\n",
    "Si el paciente NO está infectado, el resultado de la prueba será negativo con probabilidad:\n",
    "    $P(P^c | I^c) = 0.95$\n",
    "Lo que implica que la probabilidad de un falso positivo es:\n",
    "    $P(P | I^c) = 1 - 0.95 = 0.05$\n",
    "\n",
    "\n",
    "Además, sabemos que la probabilidad de estar infectado es:\n",
    "$P(I) = 0.017$\n",
    "\n",
    "Por lo tanto, la probabilidad de no estar infectado es:\n",
    "$P(I^c) = 1 - P(I) = 1 - 0.017 = 0.983$"
   ]
  },
  {
   "cell_type": "markdown",
   "metadata": {},
   "source": [
    "Queremos calcular la probabilidad de que una persona esté infectada dado que la prueba resultó positiva, es decir:\n",
    "\n",
    "\\begin{equation}\n",
    "P(I | P)\n",
    "\\end{equation}\n",
    "\n",
    "Para esto, usamos el Teorema de Bayes, que nos dice que:\n",
    "\n",
    "\\begin{equation}\n",
    "P(I | P) = \\frac{P(P | I) P(I)}{P(P)}\n",
    "\\end{equation}\n",
    "\n",
    "donde:\n",
    "\n",
    "$P(I) = 0.017$ es la probabilidad previa de estar infectado.\n",
    "$P(P | I) = 0.95$ es la sensibilidad de la prueba, es decir, la probabilidad de que la prueba sea positiva si la persona está infectada.\n",
    "$P(P)$ es la probabilidad total de que la prueba sea positiva.\n",
    "\n",
    "\n",
    "Para calcular $P(P)$, utilizamos la regla de la probabilidad total:\n",
    "\n",
    "\\begin{equation}\n",
    "P(P) = P(P | I) P(I) + P(P | I^c) P(I^c)\n",
    "\\end{equation}\n",
    "\n",
    "donde:\n",
    "\n",
    "\n",
    " $P(P | I^c) = 0.05$ es la probabilidad de un falso positivo, es decir, que la prueba sea positiva cuando la persona no está infectada.\n",
    "$P(I^c) = 1 - P(I) = 1 - 0.017 = 0.983$ es la probabilidad de no estar infectado.\n",
    "\n",
    "Sustituyamos los valores en la ecuación:\n",
    "\n",
    "$P(P) = (0.95 \\times 0.017) + (0.05 \\times 0.983)$\n",
    "\n",
    "Calculamos cada término:\n",
    "\n",
    "$0.95 \\times 0.017 = 0.01615$\n",
    "\n",
    "$0.05 \\times 0.983 = 0.04915$\n",
    "\n",
    "Sumamos ambos valores:\n",
    "\n",
    "$P(P) = 0.01615 + 0.04915 = 0.0653$\n",
    "\n",
    "Ahora podemos calcular $P(I | P)$:\n",
    "\n",
    "$P(I | P) = \\frac{0.95 \\times 0.017}{0.0653}$\n",
    "\n",
    "Calculamos el numerador:\n",
    "\n",
    "$0.95 \\times 0.017 = 0.01615$\n",
    "\n",
    "Dividimos por $P(P)$:\n",
    "\n",
    "$P(I | P) = \\frac{0.01615}{0.0653} = 0.2473$\n",
    "\n",
    "Por lo tanto, la probabilidad de que una persona esté infectada dado que la prueba fue positiva es:\n",
    "\n",
    "$P(I | P) = 0.2473 \\quad (24.73\\%)$\n"
   ]
  },
  {
   "cell_type": "markdown",
   "metadata": {},
   "source": [
    "1.2 ¿Cuál es la probabilidad de que no esté infectada? (Dado que la persona dio positivo)\n",
    "\n",
    "Queremos calcular la probabilidad de que una persona no esté infectada dado que la prueba resultó positiva, es decir:\n",
    "\n",
    "\\begin{equation}\n",
    "P(I^c | P)\n",
    "\\end{equation}\n",
    "\n",
    "Para esto, usamos el Teorema de Bayes, que nos dice que:\n",
    "\n",
    "\\begin{equation}\n",
    "P(I^c | P) = \\frac{P(P | I^c) P(I^c)}{P(P)}\n",
    "\\end{equation}\n",
    "\n",
    "donde:\n",
    "\n",
    "\n",
    "$P(I^c) = 1 - P(I) = 1 - 0.017 = 0.983$ es la probabilidad previa de NO estar infectado.\n",
    "$P(P | I^c) = 0.05$ es la probabilidad de obtener un resultado positivo en la prueba si la persona no está infectada (falso positivo).\n",
    "$P(P) = 0.0653$ es la probabilidad total de obtener un resultado positivo en la prueba (calculado en el Ejercicio 1).\n",
    "\n",
    "\n",
    "Sustituyamos los valores en la ecuación:\n",
    "\n",
    "$P(I^c | P) = \\frac{(0.05 \\times 0.983)}{0.0653}$\n",
    "\n",
    "Calculamos el numerador:\n",
    "\n",
    "$0.05 \\times 0.983 = 0.04915$\n",
    "\n",
    "Ahora, dividimos por $P(P)$:\n",
    "\n",
    "$P(I^c | P) = \\frac{0.04915}{0.0653} = 0.7527$\n",
    "\n",
    "Por lo tanto, la probabilidad de que una persona no esté infectada dado que la prueba fue positiva es:\n",
    "\n",
    "$P(I^c | P) = 0.7527 \\quad (75.27\\%)$\n",
    "\n",
    "Conclusión\n",
    "\n",
    "A pesar de que la prueba tiene una precisión del **95\\%**, si una persona recibe un resultado positivo, la probabilidad de que realmente no esté infectada es del **75.27\\%**.\n",
    "\n",
    "Este resultado se debe a que la enfermedad tiene una baja prevalencia en la población (\\(1.7\\%\\)), lo que hace que haya muchos falsos positivos en comparación con verdaderos positivos.\n"
   ]
  },
  {
   "cell_type": "markdown",
   "metadata": {},
   "source": [
    "## 2. \n",
    "\n",
    "(Ejercicio 1.3 Pattern Recognition and Machine Learning, by Christopher M. Bishop.) \n",
    "\n",
    "Supongamos que tenemos tres cajas: $r$ (roja), $a$ (azul), y $v$ (verde). Los contenidos de las cajas son:\n",
    "\n",
    "- $r$: 3 manzanas, 4 naranjas, y 3 limas.\n",
    "- $a$: 1 manzanas, 1 naranjas, y 0 limas.\n",
    "- $v$: 3 manzanas, 3 naranjas, y 4 limas\n",
    "\n",
    "Si la caja se elige aleatoriamente con probabilidades $p(r) = 0.2$, $p(b) = 0.2$, $p(g) = 0.6$, y una fruta se selecciona de la caja elegida, con igual probabilidad de seleccionar cualquier elemento de la caja, \n"
   ]
  },
  {
   "cell_type": "markdown",
   "metadata": {},
   "source": [
    "2.1 ¿Cuál es la probabilida de seleccionar una manzana?\n",
    "\n",
    "Tenemos tres cajas de frutas, cada una con diferentes cantidades de manzanas, naranjas y limas. Las cajas y sus contenidos son:\n",
    "\n",
    "Caja roja (r): 3 manzanas, 4 naranjas, 3 limas. Total: 10 frutas.\n",
    "\n",
    "Caja azul (a): 1 manzana, 1 naranja, 0 limas. Total: 2 frutas.\n",
    "\n",
    "Caja verde (v): 3 manzanas, 3 naranjas, 4 limas. Total: 10 frutas.\n",
    "\n",
    "Cada caja es elegida con la siguiente probabilidad:\n",
    "\n",
    "\\begin{equation}\n",
    "P(r) = 0.2, \\quad P(a) = 0.2, \\quad P(v) = 0.6\n",
    "\\end{equation}\n",
    "\n",
    "\n",
    "Queremos calcular la probabilidad de seleccionar una manzana para lo cual aplicamos la regla de la probabilidad total:\n",
    "\n",
    "\\begin{equation}\n",
    "P(M) = P(M | r) P(r) + P(M | a) P(a) + P(M | v) P(v)\n",
    "\\end{equation}\n",
    "\n",
    "Donde:\n",
    "\n",
    "\\begin{equation}\n",
    "P(M | r) = \\frac{3}{10}, \\quad P(M | a) = \\frac{1}{2}, \\quad P(M | v) = \\frac{3}{10}\n",
    "\\end{equation}\n",
    "\n",
    "\n",
    "Sustituyendo los valores:\n",
    "\n",
    "\\begin{equation}\n",
    "P(M) = \\left(\\frac{3}{10} \\times 0.2\\right) + \\left(\\frac{1}{2} \\times 0.2\\right) + \\left(\\frac{3}{10} \\times 0.6\\right)\n",
    "\\end{equation}\n",
    "P(M) = 0.34\n",
    "\n",
    "\n",
    "\n"
   ]
  },
  {
   "cell_type": "markdown",
   "metadata": {},
   "source": [
    "2.2 Si observamos que la fruta seleccionada es una naranja, ¿Cuál es la probabilidad de que provenga de la caja verde?\n",
    "\n",
    "\n",
    "\n",
    "Usamos el Teorema de Bayes:\n",
    "\n",
    "\\begin{equation}\n",
    "P(v | N) = \\frac{P(N | v) P(v)}{P(N)}\n",
    "\\end{equation}\n",
    "\n",
    "Calculamos primero \\( P(N) \\) usando la regla de la probabilidad total:\n",
    "\n",
    "\\begin{equation}\n",
    "P(N) = P(N | r) P(r) + P(N | a) P(a) + P(N | v) P(v)\n",
    "\\end{equation}\n",
    "\n",
    "Donde:\n",
    "\n",
    "\\begin{equation}\n",
    "P(N | r) = \\frac{4}{10}, \\quad P(N | a) = \\frac{1}{2}, \\quad P(N | v) = \\frac{3}{10}\n",
    "\\end{equation}\n",
    "\n",
    "Sustituyendo:\n",
    "\n",
    "\\begin{equation}\n",
    "P(N) = \\left(\\frac{4}{10} \\times \\frac{2}{10}\\right) + \\left(\\frac{1}{2} \\times \\frac{2}{10}\\right) + \\left(\\frac{3}{10} \\times \\frac{6}{10}\\right)\n",
    "\\end{equation}\n",
    "\n",
    "\n",
    "$P(N) = 0.36$\n",
    "\n",
    "\n",
    "Finalmente, aplicamos la fórmula de Bayes:\n",
    "\n",
    "\n",
    "$P(v | N) =  \\frac{\\frac{3}{10} \\times \\frac{6}{10}}{\\frac{36}{100}}$\n",
    "\n",
    "$P(v | N) = 0.50$\n",
    "\n",
    "\n"
   ]
  },
  {
   "cell_type": "markdown",
   "metadata": {},
   "source": [
    "## 3.\n",
    "\n",
    "Leer la **sección 1.2.4. (The Gaussian distribution)** del libro Pattern Recognition and Machine Learning, by Christopher M. Bishop, las páginas 24 y 25 . A partir de ello:\n",
    "\n",
    "3.1 ¿Cuáles son los parámetros que caracterizan una distribución Gaussiana?, ¿Qué significan?"
   ]
  },
  {
   "cell_type": "markdown",
   "metadata": {},
   "source": [
    "\n",
    "Parámetros que Caracterizan la Distribución Gaussiana\n",
    "\n",
    "La distribución Gaussiana (o distribución normal) se caracteriza por dos parámetros fundamentales:\n",
    "\n",
    "Media ($\\mu$):\n",
    "         Representa el valor esperado o el promedio de la distribución.\n",
    "         Determina la posición del centro de la distribución en el eje de los números reales.\n",
    "         Matemáticamente, se define como:\n",
    "\\begin{equation}\n",
    "\\mu = \\mathbb{E}[x] = \\int x p(x) dx\n",
    "\\end{equation}\n",
    "Indica el punto alrededor del cual los datos están distribuidos.\n",
    "\n",
    "\n",
    "Varianza $\\sigma^2$ o Desviación estándar $\\sigma$:\n",
    "\n",
    "Mide la dispersión de los valores respecto a la media.\n",
    "Cuanto mayor sea $\\sigma^2$, más dispersos estarán los datos alrededor de la media.\n",
    "Se define como:\n",
    "\\begin{equation}\n",
    "\\sigma^2 = \\mathbb{E}[(x - \\mu)^2] = \\int (x - \\mu)^2 p(x) dx\n",
    "\\end{equation}\n",
    "  \n",
    "  La desviación estándar ($\\sigma$) es la raíz cuadrada de la varianza:\n",
    "        \\begin{equation}\n",
    "            \\sigma = \\sqrt{\\sigma^2}\n",
    "        \\end{equation}\n",
    "\n",
    "\n",
    "Función de Densidad de Probabilidad (PDF)\n",
    "La función de densidad de probabilidad de una variable aleatoria $x$ con distribución Gaussiana es:\n",
    "\\begin{equation}\n",
    "p(x) = \\frac{1}{\\sqrt{2\\pi \\sigma^2}} \\exp \\left( -\\frac{(x - \\mu)^2}{2\\sigma^2} \\right)\n",
    "\\end{equation}\n",
    "\n",
    "Donde:\n",
    "     $x$ es la variable aleatoria.\n",
    "     $\\mu$ es la media.\n",
    "     $\\sigma^2$ es la varianza.\n",
    "\n",
    "\n",
    "Interpretación Intuitiva\n",
    "$\\mu$ (media): Determina dónde está centrada la distribución.\n",
    "  $\\sigma$ (desviación estádar): Indica qué tan dispersos están los datos con respecto a la media.\n",
    "\n",
    "Estos parámetros controlan la forma de la distribución y son fundamentales en probabilidad, estadística e inferencia bayesiana."
   ]
  },
  {
   "cell_type": "markdown",
   "metadata": {},
   "source": [
    "2. Define una V.A. normal usando `scipy.stats.norm`, con media y varianza que prefieras:"
   ]
  },
  {
   "cell_type": "code",
   "execution_count": null,
   "metadata": {},
   "outputs": [
    {
     "data": {
      "text/plain": [
       "{10: 5.01568641957135,\n",
       " 100: 4.836501466845076,\n",
       " 1000: 5.031675369433688,\n",
       " 10000: 5.00554211964337}"
      ]
     },
     "execution_count": 1,
     "metadata": {},
     "output_type": "execute_result"
    }
   ],
   "source": [
    "import numpy as np\n",
    "import scipy.stats as stats\n",
    "\n",
    "# Definir los parámetros de la distribución normal\n",
    "mu = 5   # Media\n",
    "sigma = 2  # Desviación estándar\n",
    "\n",
    "# Crear la variable aleatoria normal\n",
    "x = stats.norm(loc=mu, scale=sigma)\n",
    "   \n",
    "#   Luego, muestrea 10, 100, 1000, y 10000 veces esta V.A. usando el método `rvs`:\n",
    "#   Tamaños de muestra\n",
    "sample_sizes = [10, 100, 1000, 10000]\n",
    "\n",
    "# Se generan n valores aleatorios siguiendo la distribución normal con media \\(\\mu = 5\\) y desviación estándar \\(\\sigma = 2\\).\n",
    "# Y almacenamos los resultados en un diccionario donde la clave es n y el valor es la muestra generada:\n",
    "# Obtener los promedios de las muestras\n",
    "\n",
    "sample_means = {n: x.rvs(n).mean() for n in sample_sizes}\n",
    "\n",
    "# Mostrar los resultados\n",
    "sample_means"
   ]
  },
  {
   "cell_type": "markdown",
   "metadata": {},
   "source": [
    "¿Qué puedes concluir del efecto de la cantidad de las muestras sobre este promedio?\n",
    "\n",
    "Los resultados siguen mostrando que a medida que 𝑛 aumenta, el promedio se acerca más a la media real (𝜇=5), lo que confirma la Ley de los Grandes Números."
   ]
  },
  {
   "cell_type": "markdown",
   "metadata": {},
   "source": [
    "# 4.\n",
    "\n",
    "Es común que haya cierta confusión en el significado del valor esperado. Un significado que le podemos dar a este valor, viene dado por la [ley de los grandes números](https://www.khanacademy.org/math/statistics-probability/random-variables-stats-library/expected-value-lib/v/law-of-large-numbers), que básicamente dice que:\n",
    "\n",
    "$$\n",
    "\\mathbb{E}_p[f] \\to \\frac{1}{N} \\sum_{i=1}^N f(x_i), \\text{ cuando } N \\to \\infty\n",
    "$$"
   ]
  },
  {
   "cell_type": "markdown",
   "metadata": {},
   "source": [
    "Para convencerte de esto, en este ejercicio simularás la tirada de un dado justo:\n",
    "\n",
    "1. Definimos la VA $X$ como el valor que muestra el dado cuando cae, es decir $\\mathrm{Val}(X) = \\{1, 2, 3, 4, 5, 6\\}$.\n",
    "2. Como el dado es justo $P(X=i)=\\frac{1}{|\\mathrm{Val}(X)|}=\\frac{1}{6}$ para todo $i=1,\\dots,6$.\n",
    "\n",
    "¿Cuál es el valor esperado $E[X]$?"
   ]
  },
  {
   "cell_type": "code",
   "execution_count": null,
   "metadata": {},
   "outputs": [],
   "source": [
    "import numpy as np\n",
    "\n",
    "# Definir los posibles valores del dado\n",
    "valores_dado = np.array([1, 2, 3, 4, 5, 6])\n"
   ]
  },
  {
   "cell_type": "markdown",
   "metadata": {},
   "source": [
    "# Simular 1000 veces"
   ]
  },
  {
   "cell_type": "code",
   "execution_count": null,
   "metadata": {},
   "outputs": [],
   "source": [
    "# Definir la cantidad de simulaciones\n",
    "num_simulaciones = 100000\n",
    "\n",
    "# Simular las tiradas del dado\n",
    "simulaciones = np.random.choice(valores_dado, size=num_simulaciones, replace=True)"
   ]
  },
  {
   "cell_type": "markdown",
   "metadata": {},
   "source": [
    "Ahora, viene el paso de simulación. \n",
    "\n",
    "1. Vas a simular por lo menos 1000 veces la tirada del dado, guardando a cada tirada el resultado obtenido.\n",
    "\n",
    "2. Vas a calcular el valor promedio de los resultados *a cada tirada*. Es decir, si los resultados en las primeras $n$ tiradas son $x_1,\\dots,x_n$, el valor promedio en la tirada $n$ es\n",
    "\n",
    "   $$\\bar{x}_n = \\frac{x_1+\\dots+x_n}{n}.$$\n",
    "\n",
    "3. Finalmente, vas a graficar los valores promedio obtenidos a cada tirada (en el eje $y$) vs. el número de tiradas (en el eje $x$). Incluir el valor esperado teórico en la gráfica. ¿Qué observas?\n",
    "\n",
    "*Ayuda: apoyarse del modulo random de numpy.*"
   ]
  },
  {
   "cell_type": "code",
   "execution_count": null,
   "metadata": {},
   "outputs": [
    {
     "data": {
      "image/png": "[encoded data removed]",
      "text/plain": [
       "<Figure size 1000x500 with 1 Axes>"
      ]
     },
     "metadata": {},
     "output_type": "display_data"
    }
   ],
   "source": [
    "# Calcular el valor promedio de los resultados a cada tirada\n",
    "\n",
    "import matplotlib.pyplot as plt\n",
    "\n",
    "# Generar las simulaciones acumulativas para observar la convergencia\n",
    "# np.cumsum -> calcula la suma acumulada de las tiradas del dado.\n",
    "# simulaciones = [4, 2, 6, 3]\n",
    "# np.cumsum(simulaciones)  \n",
    "# da como salida: [4, 6, 12, 15]\n",
    "\n",
    "# np.arange(1, num_simulaciones + 1)\n",
    "# Genera un array de índices que va desde 1 hasta num_simulaciones.\n",
    "# ej. si num_simulaciones = 4,\n",
    "# np.arange(1, num_simulaciones+1)  \n",
    "# da como salida: [1, 2, 3, 4]\n",
    "promedios_acumulativos = np.cumsum(simulaciones) / np.arange(1, num_simulaciones + 1)\n",
    "\n",
    "# Crear la gráfica\n",
    "plt.figure(figsize=(10, 5))\n",
    "plt.plot(np.arange(1, num_simulaciones + 1), promedios_acumulativos, label='Promedio acumulado', alpha=0.7)\n",
    "plt.axhline(y=3.5, color='r', linestyle='--', label='Valor esperado teórico (3.5)')\n",
    "\n",
    "# Configurar la gráfica\n",
    "plt.xlabel('Número de tiradas')\n",
    "plt.ylabel('Valor promedio acumulado')\n",
    "plt.title('Convergencia del Promedio de las Tiradas del Dado')\n",
    "plt.legend()\n",
    "plt.grid(True)\n",
    "\n",
    "# Mostrar la gráfica\n",
    "plt.show()\n"
   ]
  },
  {
   "cell_type": "code",
   "execution_count": 6,
   "metadata": {},
   "outputs": [
    {
     "name": "stdout",
     "output_type": "stream",
     "text": [
      "Valor Esperado:  3.49333\n"
     ]
    }
   ],
   "source": [
    "# Calcular el valor esperado teórico de la VA X\n",
    "\n",
    "valor_esperado = np.mean(simulaciones)\n",
    "\n",
    "# Mostrar el resultado\n",
    "print(\"Valor Esperado: \", valor_esperado)\n"
   ]
  },
  {
   "cell_type": "markdown",
   "metadata": {},
   "source": [
    "La ley de los grandes números establece que el valor de la Esperanza de una Variable Aleatoria es una aproximación  por una suma finita definida como:\n",
    "\n",
    "\\begin{equation}\n",
    "    E[X] ≈ \\sum_{i} P(X = i) \\cdot i\n",
    "\\end{equation}\n",
    "\n",
    "En este caso, la variable aleatoria $X$ representa el resultado de lanzar un dado justo, por lo que:\n",
    "\n",
    "\n",
    "Valores posibles: $X \\in \\{1, 2, 3, 4, 5, 6\\}$.\n",
    "Probabilidad de cada valor: $P(X = i) = \\frac{1}{6}$, dado que el dado es justo.\n",
    "\n",
    "Sustituyendo estos valores en la ecuación del valor esperado:\n",
    "\n",
    "\\begin{align*}\n",
    "    E[X] &≈ \\sum_{i=1}^{6} i \\cdot P(X = i) \\\\\n",
    "         &= (1 \\cdot \\frac{1}{6}) + (2 \\cdot \\frac{1}{6}) + (3 \\cdot \\frac{1}{6}) + (4 \\cdot \\frac{1}{6}) + (5 \\cdot \\frac{1}{6}) + (6 \\cdot \\frac{1}{6}) \\\\\n",
    "         &= \\frac{1 + 2 + 3 + 4 + 5 + 6}{6} \\\\\n",
    "         &= \\frac{21}{6} = 3.5\n",
    "\\end{align*}\n",
    "\n",
    "Conclusión:\n",
    "\n",
    "El valor esperado $E[X]$ de lanzar un dado justo es $3.5$. \n",
    "Esto no significa que el dado pueda tomar el valor 3.5, sino que si lanzamos el dado muchas veces, el promedio de los resultados se acercará a 3.5, en concordancia con la Ley de los Grandes Números.\n",
    "\n"
   ]
  },
  {
   "cell_type": "code",
   "execution_count": null,
   "metadata": {},
   "outputs": [],
   "source": []
  },
  {
   "cell_type": "markdown",
   "metadata": {},
   "source": [
    "# 5.\n",
    "\n",
    "[Lectura recomendada](https://ocw.mit.edu/courses/18-05-introduction-to-probability-and-statistics-spring-2022/mit18_05_s22_class06-prep-b.pdf)"
   ]
  },
  {
   "cell_type": "markdown",
   "metadata": {},
   "source": [
    "<script>\n",
    "  $(document).ready(function(){\n",
    "    $('div.prompt').hide();\n",
    "    $('div.back-to-top').hide();\n",
    "    $('nav#menubar').hide();\n",
    "    $('.breadcrumb').hide();\n",
    "    $('.hidden-print').hide();\n",
    "  });\n",
    "</script>\n",
    "\n",
    "<footer id=\"attribution\" style=\"float:right; color:#808080; background:#fff;\">\n",
    "Created with Jupyter by Esteban Jiménez Rodríguez.\n",
    "</footer>"
   ]
  }
 ],
 "metadata": {
  "kernelspec": {
   "display_name": "mgp2025_v4",
   "language": "python",
   "name": "python3"
  },
  "language_info": {
   "codemirror_mode": {
    "name": "ipython",
    "version": 3
   },
   "file_extension": ".py",
   "mimetype": "text/x-python",
   "name": "python",
   "nbconvert_exporter": "python",
   "pygments_lexer": "ipython3",
   "version": "3.9.21"
  }
 },
 "nbformat": 4,
 "nbformat_minor": 4
}
