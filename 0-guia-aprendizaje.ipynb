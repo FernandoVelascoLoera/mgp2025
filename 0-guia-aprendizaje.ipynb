{
 "cells": [
  {
   "cell_type": "markdown",
   "metadata": {},
   "source": [
    "___\n",
    "<img style=\"float: right; margin: 0px 0px 15px 15px;\" src=\"assets/Bayesian.png\" width=\"500px\" height=\"500px\" />\n",
    "\n",
    "\n",
    "# <font color= #8A0829> Introducción a los Modelos Gráficos Probabilísticos.</font>\n",
    "#### <font color= #2E9AFE> Miércoles 18:30 - 21:30 hrs</font>\n",
    "- <Strong> Esteban Jiménez Rodríguez </Strong>\n",
    "- <Strong> Año </Strong>: 2025\n",
    "- <Strong> Copyright: </Strong> MIT (Exepto donde se indique lo contrario)\n",
    "\n",
    "- <Strong> Email: </Strong>  <font color=\"blue\"> `esjimenezro@iteso.mx` </font>\n",
    "___\n",
    "\n",
    "<p style=\"text-align:right;\"> Imagen generada con Copilot.</p>"
   ]
  },
  {
   "cell_type": "markdown",
   "metadata": {},
   "source": [
    "### Presentación mia\n",
    "___"
   ]
  },
  {
   "cell_type": "markdown",
   "metadata": {},
   "source": [
    "### Presentación de ustedes\n",
    "___"
   ]
  },
  {
   "cell_type": "markdown",
   "metadata": {},
   "source": [
    "### Algunas reglas de juego\n",
    "\n",
    "Tomado de [Normas mínimas disciplinarias](https://www.dropbox.com/s/sbez0e0rv34na14/NORMAS_MINIMAS_DISCIPLINARIAS.pdf?dl=0).\n",
    "\n",
    "- El inicio de clases será 18:30, a partir de ese momento el profesor podrá tomar asistencia. Por ejemplo si el horario de clases es de 7:00 a 10:00 iniciará la clase a las 7:10 y el profesor podrá tomar asistencia.\n",
    "- El final de la clase será 20 minutos antes de lo marcado en el horario.\n",
    "- Los alumnos tendrán que esperar al profesor hasta por 20 minutos (30 minutos después de la hora), después de ese tiempo se podrán ir sin falta. En la siguiente clase el profesor indicará la fecha de reposición de la clase o de los minutos por su retraso. En las clases de reposición no se toma asistencia.\n",
    "- Es obligación del maestro retroalimentar a los alumnos después de haber realizado cualquier tipo de evaluación entregando el examen correspondiente a más tardar dos semanas después de haber efectuado el mismo.\n",
    "- Todas las entregas deben hacerse através de los espacios provistos en canvas, a menos que se especifique lo contrario.\n",
    "- No se recibirán entregas por ningún otro medio. Sin excepción.\n"
   ]
  },
  {
   "cell_type": "markdown",
   "metadata": {},
   "source": [
    "### Horario de asesoría\n",
    "\n",
    "- A convenir.\n",
    "\n",
    "### Discutir posibilidad de tomar clase presencial los sábados de 9-12.\n",
    "___"
   ]
  },
  {
   "cell_type": "markdown",
   "metadata": {},
   "source": [
    "### `Descripción de la asignatura`\n",
    "\n",
    "- La mayoría de las tareas requieren de una **persona o un sistema automático que razone** (que llegue a conclusiones con base en la información disponible). \n",
    "\n",
    "- El enfoque de **modelos gráficos probabilísticos** constituye un esquema general para dar solución a esta problemática.\n",
    "\n",
    "- Es un enfoque basado en modelo, de manera que **puedan construirse modelos interpretables** y luego manipularlos por medio de algoritmos de razonamiento (inferencia). Dado que la incertidumbre es un aspecto inevitable de la mayoría de aplicaciones en la vida real, **los modelos que se consideran son probabilísticos**. \n",
    "\n",
    "- Los modelos gráficos probabilísticos son la base de varios métodos **en varias aplicaciones** tales como diagnóstico médico, visión artificial, reconocimiento de voz, procesamiento de lenguaje natural y muchos otros más. Además , son una herramienta básica para la formulación de varios problemas de aprendizaje de máquinas."
   ]
  },
  {
   "cell_type": "markdown",
   "metadata": {},
   "source": [
    "### `Objetivos`\n",
    "\n",
    "- Modelar problemáticas/situaciones reales mediante grafos probabilísticos.\n",
    "- Responder preguntas de interés práctico acerca de las problemáticas/situaciones modeladas usando algoritmos de inferencia.\n",
    "- Estimar los parámetros y/o estructura de los modelos usando técnicas de optimización."
   ]
  },
  {
   "cell_type": "markdown",
   "metadata": {},
   "source": [
    "### `Distribución del curso`\n",
    "\n",
    "Para alcanzar los anteriores objetivos se propone la siguiente distribución de las sesiones en el curso:"
   ]
  },
  {
   "cell_type": "markdown",
   "metadata": {},
   "source": [
    "#### Módulo 1. Introducción al modelado probabilístico.\n",
    "\n",
    "<img style=\"float: right; margin: 0px 0px 15px 15px;\" src=\"assets/ProbModels.png\" width=\"500px\" height=\"500px\" />\n",
    "\n",
    "En este módulo introduciremos los contenidos del curso y usaremos un ejemplo sencillo \n",
    "para motivar el estudio de los modelos gráficos probabilísticos. \n",
    "Exploraremos modelos probabilísticos básicos, dejando de lado la parte gráfica por un momento, \n",
    "y en el camino recordaremos tópicos fundamentales de teoría de probabilidad, estimación de \n",
    "máxima verosimilitud, y además discutiremos acerca del enfoque Bayesiano. \n",
    "Todo esto lo usaremos en una aplicación básica que nos conducirá a la implementación de un \n",
    "modelo de regresión que puede trabajar online.\n",
    "\n",
    "\n",
    "1. Introducción y motivación al curso.\n",
    "   \n",
    "   - Presentación de la guía de aprendizaje.\n",
    "   - Instalación de herramientas de trabajo.\n",
    "   - Ejemplo introductorio.\n",
    "\n",
    "2. Repaso de probabilidad.\n",
    "\n",
    "   - Conceptos básicos de probabilidad.\n",
    "   - Variables aleatorias discretas.\n",
    "   - Variables aleatorias continuas.\n",
    "\n",
    "3. Estimadores de máxima verosimilitud & máximo aposteriori.\n",
    "\n",
    "   - Principio de máxima verosimilitud.\n",
    "   - Estimadores de máxima verosimilitud.\n",
    "   - Ajuste de curvas y máxima verosimilitud.\n",
    "   - Máximo aposteriori.\n",
    "\n",
    "4. Actualización Bayesiana.\n",
    "\n",
    "   - Actualización Bayesiana discreta.\n",
    "   - Actualización Bayesiana continua.\n",
    "\n",
    "5. Regresión lineal Bayesiana.\n",
    "   - Introducción a PyMC.\n",
    "   - Lenguaje de modelos probabilísticos.\n",
    "   - Regresión lineal Bayesiana.\n",
    "  \n",
    "6. Evaluación módulo 1.\n",
    "\n",
    "<p style=\"text-align:right;\"> Imagen generada con copilot.</p>"
   ]
  },
  {
   "cell_type": "markdown",
   "metadata": {},
   "source": [
    "#### Módulo 2. Representación, inferencia y aprendizaje en modelos gráficos probabilísticos.\n",
    "\n",
    "<img style=\"float: right; margin: 0px 0px 15px 15px;\" src=\"assets/BayesNets.png\" width=\"500px\" height=\"500px\" />\n",
    "\n",
    "En este módulo aprenderemos acerca de las una representación de modelos gráficos probabilísticos: \n",
    "las redes Bayesianas (grafos dirigidos). \n",
    "Estudiaremos tanto las propiedades teóricas de dichas representaciones así como su uso en la práctica. \n",
    "Así mismo, aprenderemos cómo responder preguntas usando las estructuras gráficas. \n",
    "Adicionalmente, analizaremos una extensión importante de estas representaciones que nos permitirán \n",
    "representar procesos de toma de decisión.\n",
    "\n",
    "7. Redes Bayesianas.\n",
    "\n",
    "   - Factores y operaciones con factores.\n",
    "   - Redes Bayesianas y modelos probabilísticos.\n",
    "   - Flujo de influencia probabilística en redes Bayesianas.\n",
    "\n",
    "8. Inferencia en redes Bayesianas.\n",
    "\n",
    "   - Introducción a inferencia probabilística.\n",
    "   - Algoritmo de eliminación de variables.\n",
    "   - Inferencia aproximada.\n",
    "\n",
    "9. Aprendizaje en redes Bayesianas.\n",
    "\n",
    "   - Estimación de parámetros en redes Bayesianas.\n",
    "\n",
    "10. Evaluación módulo 2.\n",
    "\n",
    "<p style=\"text-align:right;\"> Imagen generada con Copilot.</p>"
   ]
  },
  {
   "cell_type": "markdown",
   "metadata": {},
   "source": [
    "#### Módulo 3. Aplicaciones seleccionadas.\n",
    "\n",
    "<img style=\"float: right; margin: 0px 0px 15px 15px;\" src=\"assets/LearningBot.png\" width=\"500px\" height=\"500px\" />\n",
    "\n",
    "En este módulo utilizaremos nuestro conocimiento en redes Bayesianas para explicar algunos modelos. \n",
    "Entre ellos estudiaremos modelos de variables latentes, como k-medias y mezclas Gaussianas a través\n",
    "del algoritmo de maximización de la esperanza.\n",
    "\n",
    "11. Modelos de variables latentes.\n",
    "\n",
    "   - K-Medias.\n",
    "   - Mezclas Gaussianas.\n",
    "12. Proyecto final.\n",
    "\n",
    "<p style=\"text-align:right;\"> Imagen generada con Copilot.</p>"
   ]
  },
  {
   "cell_type": "markdown",
   "metadata": {},
   "source": [
    "### `Pre-requisitos`\n",
    "\n",
    "- Sintaxis básica de python y trabajo con librerías (curso: prope de programación).\n",
    "- Teoría básica de probabilidad (curso: análisis estadístico).\n",
    "- Planteamiento y solución de problemas básicos de optimización (curso: optimización)."
   ]
  },
  {
   "cell_type": "markdown",
   "metadata": {},
   "source": [
    "### `Evaluación`\n",
    "\n",
    "- **Tareas 25%**\n",
    "- **Quices 15%**\n",
    "- **2 Evaluaciones 30% (15% c/u)**\n",
    "- **Proyecto 30%**"
   ]
  },
  {
   "cell_type": "markdown",
   "metadata": {},
   "source": [
    "### `Bibliografía `\n",
    "\n",
    "- Daphne Koller and Nir Friedman (2009).  Probabilistic Graphical Models Principles and Techniques . MIT Press. \n",
    "- [Pattern Recognition and Machine Learning](https://www.microsoft.com/en-us/research/publication/pattern-recognition-machine-learning/?msockid=162447969c31614317fa55fe9d48601f), by Christopher M. Bishop, Springer, 2006.\n",
    "- Bayesian Reasoning and Machine Learning by David Barber.\n",
    "- Statistical Rethinking: A Bayesian Course with Examples in R and Stan Chapman & Hall/CRC Texts in Statistical Science, Richard McElreath, CRC Press, 2018.\n",
    "- [Bayesian Modeling and Computation in Python](https://bayesiancomputationbook.com/welcome.html), by Osvaldo A. Martin, Ravin Kumar and Junpeng Lao, CRC Press, 2021."
   ]
  },
  {
   "cell_type": "markdown",
   "metadata": {},
   "source": [
    "<script>\n",
    "  $(document).ready(function(){\n",
    "    $('div.prompt').hide();\n",
    "    $('div.back-to-top').hide();\n",
    "    $('nav#menubar').hide();\n",
    "    $('.breadcrumb').hide();\n",
    "    $('.hidden-print').hide();\n",
    "  });\n",
    "</script>\n",
    "\n",
    "<footer id=\"attribution\" style=\"float:right; color:#808080; background:#fff;\">\n",
    "Created with Jupyter by Esteban Jiménez Rodríguez.\n",
    "</footer>"
   ]
  }
 ],
 "metadata": {
  "kernelspec": {
   "display_name": "Python 3",
   "language": "python",
   "name": "python3"
  },
  "language_info": {
   "codemirror_mode": {
    "name": "ipython",
    "version": 3
   },
   "file_extension": ".py",
   "mimetype": "text/x-python",
   "name": "python",
   "nbconvert_exporter": "python",
   "pygments_lexer": "ipython3",
   "version": "3.7.6"
  }
 },
 "nbformat": 4,
 "nbformat_minor": 4
}
