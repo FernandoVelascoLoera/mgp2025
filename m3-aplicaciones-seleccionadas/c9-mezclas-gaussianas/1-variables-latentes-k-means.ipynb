{
 "cells": [
  {
   "cell_type": "markdown",
   "metadata": {},
   "source": [
    "# Modelos con variables latentes y repaso del algoritmo K-Means"
   ]
  },
  {
   "cell_type": "markdown",
   "metadata": {},
   "source": [
    "<img style=\"float: right; margin: 0px 0px 15px 15px;\" src=\"https://upload.wikimedia.org/wikipedia/commons/e/e5/KMeans-Gaussian-data.svg\" width=\"500px\" height=\"300px\" />\n",
    "\n",
    "> **¿Qué significa variable latente?**\n",
    "\n",
    "> Para responder a esta pregunta, nos remontamos hacia la raiz *latina* etimológica de la palabra latente. Esta palabra viene la palabra en Latín **latens** que significa escondido u oculto.\n",
    "\n",
    "> En el contexto del modelado probabilístico nos referimos con variables latentes a variables que nunca observamos, pero que (inferimos) están ahí.\n",
    "\n",
    "> **Objetivos:**\n",
    "> - Entender qué son las variables latentes y sus aplicaciones.\n",
    "> - Repasar el algoritmo k-means.\n",
    "\n",
    "\n",
    "> **Referencias:**\n",
    "> - Bayesian Methods for Machine Learning course, HSE University, Coursera."
   ]
  },
  {
   "cell_type": "markdown",
   "metadata": {},
   "source": [
    "## 1. Variables latentes"
   ]
  },
  {
   "cell_type": "markdown",
   "metadata": {},
   "source": [
    "### ¿Porqué consideramos variables latentes?\n",
    "\n",
    "Hay diversas razones por las que permitirnos incluir variables latentes en nuestros modelos cobra muchísima importancia. Algunas de ellas:"
   ]
  },
  {
   "cell_type": "markdown",
   "metadata": {},
   "source": [
    "1. **No porque no observemos una variable significa que no exista.**"
   ]
  },
  {
   "cell_type": "markdown",
   "metadata": {},
   "source": [
    "2. **Muchas veces nos permiten conseguir modelos más simples.**\n",
    "\n",
    "**Ejemplo:**\n",
    "\n",
    "Una empresa acaba de abrir una posición en el equipo de ciencia de datos. En este sentido, el departamento de RH está interesado en entrevistar a varios candidatos para encontrar a alguien idóneo para la posición.\n",
    "\n",
    "Para ello, ya se tiene un tabulador que involucra varias variables:\n",
    "- Grado académico.\n",
    "- Promedio de calificaciones del último grado académico.\n",
    "- Entrevista telefónica.\n",
    "- Entrevista en vivo.\n",
    "\n",
    "Sin embargo, la entrevista en vivo es un evento que puede llegar a involucrar muchos recursos económicos, y por experiencia, hay varios candidatos que se pueden descartar con solo el conocimiento de las otras variables. La idea es desarrollar un modelo usando datos históricos del departamento de RH:\n",
    "\n",
    "| Candidato | Grado | Promedio | E. Telefónica | E. Vivo |\n",
    "| --------- | ----- | -------- | ------------- | ------- |\n",
    "| 1         | Lic   | 8.4      | 7             | 5       |\n",
    "| 2         | Maes  | 8.0      | 7             | 6       |\n",
    "| 3         | Lic   | 9.5      | 8             | 9       |\n",
    "| 4         | Doc   | 8.9      | 9             | 10      |\n",
    "\n",
    "Si intentamos establecer un modelo que relacione estas variables, después de revisarlo un poco, llegaríamos a que todas estas variables están relacionadas entre sí, obteniendo un modelo completamente conectado,\n",
    "\n",
    "![fully_conn](figures/fully_connected.png)\n",
    "\n",
    "con lo que no tendríamos ni una sola pista de la estructura del modelo, y tendríamos que definir la probabilidad conjunta sobre todas las variables (número exponencial de parámetros)."
   ]
  },
  {
   "cell_type": "markdown",
   "metadata": {},
   "source": [
    "*Alternativa 1*: considerar un modelo estructurado del tipo\n",
    "\n",
    "$$\n",
    "p(x_1, x_2, x_3, x_4) = \\frac{\\exp\\{-w^T x\\}}{Z},\n",
    "$$\n",
    "\n",
    "con lo que solo tendríamos 5 parámetros $w_0, w_1, w_2, w_3, w_4$. Sin embargo, $Z$ es una constante de normalización que involucra una suma sobre todos los posibles valores de las cuatro variables aleatorias."
   ]
  },
  {
   "cell_type": "markdown",
   "metadata": {},
   "source": [
    "*Alternativa 2*: considerar una variable latente de Inteligencia\n",
    "\n",
    "![latent](figures/latent.png)"
   ]
  },
  {
   "cell_type": "markdown",
   "metadata": {},
   "source": [
    "con lo que el modelo sería:\n",
    "\n",
    "$$\n",
    "p(x_1, x_2, x_3, x_4) = \\sum_{I} p(x_1, x_2, x_3, x_4 | I) p(I) = \\sum_{I} p(x_1 | I)p(x_2 | I)p(x_3 | I)p(x_4 | I) p(I)\n",
    "$$"
   ]
  },
  {
   "cell_type": "markdown",
   "metadata": {},
   "source": [
    "Con esto reducimos notablemente la complejidad del modelo."
   ]
  },
  {
   "cell_type": "markdown",
   "metadata": {},
   "source": [
    "3. **Aplicaciones prácticas -> Clustering -> Segmentación de clientes ...**\n",
    "\n",
    "En aplicaciones clustering pretendemos descubrir segmentaciones en los datos. Esta segmentación la podemos entender como una variable latente."
   ]
  },
  {
   "cell_type": "markdown",
   "metadata": {},
   "source": [
    "## 2. Clustering"
   ]
  },
  {
   "cell_type": "markdown",
   "metadata": {},
   "source": [
    "Probablemente ya hayan escuchado hablar de clustering. Como tal, es de las aplicaciones más importantes en aprendizaje **no supervisado**, y seguramente en un proyecto de análisis de datos no va a pasar más de un mes para cuando necesiten utilizar este tipo de técnicas. Así que vamos a estudiar un par de ellas."
   ]
  },
  {
   "cell_type": "markdown",
   "metadata": {},
   "source": [
    "**Ejemplo:**\n",
    "\n",
    "Los departamentos de créditos en general (personas, pymes, empresarial) normalmente estudian la relación entre ingresos y deuda del candidato a crédito para decidir si acreditan o no a la persona. \n",
    "\n",
    "Hay varias heurísticas que se utilizan. Por ejemplo:\n",
    "\n",
    "- Si las deudas rebasan el 40% del apalancamiento (capital social + ingresos + pasivos), es una empresa de alto riesgo.\n",
    "- Si las deudas rebasan 3 meses de ingresos, es una empresa de alto riesgo.\n",
    "\n",
    "Se puede estudiar esta relación, y segmentar a los clientes de acuerdo a su perfil en estas variables."
   ]
  },
  {
   "cell_type": "code",
   "execution_count": null,
   "metadata": {},
   "outputs": [],
   "source": [
    "# Importamos función para generar datos\n",
    "\n",
    "# Importamos pyplot\n"
   ]
  },
  {
   "cell_type": "code",
   "execution_count": null,
   "metadata": {},
   "outputs": [],
   "source": [
    "# Generamos datos\n"
   ]
  },
  {
   "cell_type": "code",
   "execution_count": null,
   "metadata": {},
   "outputs": [],
   "source": [
    "# Veamos algunos ejemplos de los datos"
   ]
  },
  {
   "cell_type": "code",
   "execution_count": null,
   "metadata": {},
   "outputs": [],
   "source": [
    "# Grafico de puntos (sin etiqueta)\n"
   ]
  },
  {
   "cell_type": "markdown",
   "metadata": {},
   "source": [
    "Lo que queremos en clustering es identificar los grupos a los que pertenecen cada uno de los clientes."
   ]
  },
  {
   "cell_type": "code",
   "execution_count": null,
   "metadata": {},
   "outputs": [],
   "source": [
    "# Grafico de puntos (con etiquetas reales)\n"
   ]
  },
  {
   "cell_type": "markdown",
   "metadata": {},
   "source": [
    "Esta idea se conoce como **Hard clustering**; bajo este esquema, identificamos para cada punto un único grupo al que pertenece, es decir:\n",
    "\n",
    "$$\n",
    "ClusterId_x = f(x)\n",
    "$$\n",
    "\n",
    "- Los puntos verdes son 100% verdes.\n",
    "- Los puntos azules son 100% azules.\n",
    "- Los puntos grises son 100% grises."
   ]
  },
  {
   "cell_type": "markdown",
   "metadata": {},
   "source": [
    "Sin embargo, fijemos un momento nuestra atención en los recuadros a continuación ($[2, 3] \\times [4, 5]$ y $[4, 5] \\times [3, 4]$):"
   ]
  },
  {
   "cell_type": "code",
   "execution_count": null,
   "metadata": {},
   "outputs": [],
   "source": [
    "# [2, 3] x [4, 5]\n",
    "\n",
    "# [4, 5] x [3, 4]\n"
   ]
  },
  {
   "cell_type": "markdown",
   "metadata": {},
   "source": [
    "Desde un punto de vista intuitivo, los puntos en estos sectores no es muy claro a qué grupo pertenecen. Estaríamos tentados a decir que pertenecen a un grupo con cierta probabilidad y con cierta probabilidad a otro.\n",
    "\n",
    "Esta idea se conoce como **Soft clustering**, y está estrechamente relacionado a **clustering probabilístico**.\n",
    "\n",
    "$$\n",
    "p(ClusterId_x |x)\n",
    "$$"
   ]
  },
  {
   "cell_type": "markdown",
   "metadata": {},
   "source": [
    "Al darle un enfoque probabilístico, tenemos varias ventajas colaterales:\n",
    "\n",
    "- Sintonización de hiperparámetros.\n",
    "- Modelo generativo."
   ]
  },
  {
   "cell_type": "markdown",
   "metadata": {},
   "source": [
    "## 3. Un algoritmo de hard clustering: K-Means\n",
    "\n",
    "Aunque el K-Means es uno de los algoritmos de hard clustering más conocidos y usados, lo veremos en un par de sesiones más desde una perspectiva probabilística. \n",
    "\n",
    "De manera que nos conviene estudiarlo antes."
   ]
  },
  {
   "cell_type": "markdown",
   "metadata": {},
   "source": [
    "**Problema:** dado un conjunto de observaciones $x_1, x_2, \\dots, x_N \\in \\mathbb{R}^d$, se debe particionar las $N$ observaciones en $k$ ($\\leq N$) clusters $\\{1, 2, \\dots, k\\}$, de manera que se minimice la suma de distancias al cuadrado (varianza)."
   ]
  },
  {
   "cell_type": "markdown",
   "metadata": {},
   "source": [
    "**Algoritmo:**\n",
    "\n",
    "1. Inicializar los parámetros $\\theta = \\{\\mu_1, \\dots, \\mu_k\\}$ de manera aleatoria.\n",
    "2. Repetir hasta la convergencia (hasta que los parámetros no varíen):\n",
    "   1. Para cada punto calcule el centroide más cercano:\n",
    "      $$\n",
    "      c_i = \\arg \\min_{c} ||x_i - \\mu_c||.\n",
    "      $$\n",
    "      \n",
    "   2. Actualizar centroides:\n",
    "      $$\n",
    "      \\mu_c = \\frac{\\sum_{i: c_i = c} x_i}{\\sum_{i: c_i = c} 1}\n",
    "      $$"
   ]
  },
  {
   "cell_type": "markdown",
   "metadata": {},
   "source": [
    "**Ejercicio propuesto:** Programar el algoritmo K-Means."
   ]
  },
  {
   "cell_type": "markdown",
   "metadata": {},
   "source": [
    "Nosotros usaremos sklearn durante la clase:"
   ]
  },
  {
   "cell_type": "code",
   "execution_count": null,
   "metadata": {},
   "outputs": [],
   "source": [
    "# Importamos sklearn.cluster.KMeans\n"
   ]
  },
  {
   "cell_type": "code",
   "execution_count": null,
   "metadata": {},
   "outputs": [],
   "source": [
    "# Algoritmo de sklearn\n"
   ]
  },
  {
   "cell_type": "code",
   "execution_count": null,
   "metadata": {},
   "outputs": [],
   "source": [
    "# Instanciamos el algoritmo\n"
   ]
  },
  {
   "cell_type": "code",
   "execution_count": null,
   "metadata": {},
   "outputs": [],
   "source": [
    "# Entrenamos\n"
   ]
  },
  {
   "cell_type": "code",
   "execution_count": null,
   "metadata": {},
   "outputs": [],
   "source": [
    "# Gráfico: Real vs KMeans\n"
   ]
  },
  {
   "cell_type": "markdown",
   "metadata": {},
   "source": [
    "Todo se ve bien hasta acá. **¿Qué pasa si aumentamos el número de clusters?**\n",
    "\n",
    "Una métrica que podemos usar para ver qué tan bueno está siendo el agrupado es la suma de las distancias al cuadrado de cada punto a su centroide respectivo:\n",
    "\n",
    "$$\n",
    "\\frac{1}{N}\\sum_{i=1}^N ||x_i - \\mu_{c_i}||^2.\n",
    "$$"
   ]
  },
  {
   "cell_type": "code",
   "execution_count": null,
   "metadata": {},
   "outputs": [],
   "source": [
    "# Importamos train/test split y numpy\n"
   ]
  },
  {
   "cell_type": "code",
   "execution_count": null,
   "metadata": {},
   "outputs": [],
   "source": [
    "# Distancia al cuadrado promedio\n",
    "def msd(X, cluster_id, centroids):\n",
    "    \"\"\"\n",
    "    Mean squared distance.\n",
    "    :param data: Data.\n",
    "    :param centroids: Centroids.\n",
    "    :return: Mean squared distance.\n",
    "    \"\"\"\n",
    "    # Number of clusters\n",
    "    k = centroids.shape[0]\n",
    "    # Number of points\n",
    "    N = X.shape[0]\n",
    "    \n",
    "    # Distances initialization\n",
    "    distances = np.zeros(N)\n",
    "    \n",
    "    # Compute distances to corresponding cluster\n",
    "    for j in range(k):\n",
    "        distances[cluster_id == j] = np.linalg.norm(X[cluster_id == j] - centroids[j, :], axis=1)\n",
    "        \n",
    "    return (distances**2).mean()"
   ]
  },
  {
   "cell_type": "code",
   "execution_count": null,
   "metadata": {},
   "outputs": [],
   "source": [
    "# Dividimos train/test\n"
   ]
  },
  {
   "cell_type": "code",
   "execution_count": null,
   "metadata": {},
   "outputs": [],
   "source": [
    "# Métrica para diferentes números de clusters (2 a 24)\n",
    "metric = []\n",
    "n_clus = range(2, 25)\n",
    "for n_c in n_clus:\n",
    "    # Entrenar sobre train\n",
    "    \n",
    "    # Predecir sobre test\n"
   ]
  },
  {
   "cell_type": "code",
   "execution_count": null,
   "metadata": {},
   "outputs": [],
   "source": [
    "# Gráfico\n"
   ]
  },
  {
   "cell_type": "markdown",
   "metadata": {},
   "source": [
    "Como observamos, esta métrica siempre decrece con la cantidad de clusters, lo que hace bastante complejo elegir un número de clusters adecuado cuando este es desconocido."
   ]
  },
  {
   "cell_type": "markdown",
   "metadata": {},
   "source": [
    "<script>\n",
    "  $(document).ready(function(){\n",
    "    $('div.prompt').hide();\n",
    "    $('div.back-to-top').hide();\n",
    "    $('nav#menubar').hide();\n",
    "    $('.breadcrumb').hide();\n",
    "    $('.hidden-print').hide();\n",
    "  });\n",
    "</script>\n",
    "\n",
    "<footer id=\"attribution\" style=\"float:right; color:#808080; background:#fff;\">\n",
    "Created with Jupyter by Esteban Jiménez Rodríguez.\n",
    "</footer>"
   ]
  }
 ],
 "metadata": {
  "kernelspec": {
   "display_name": "Python 3",
   "language": "python",
   "name": "python3"
  },
  "language_info": {
   "codemirror_mode": {
    "name": "ipython",
    "version": 3
   },
   "file_extension": ".py",
   "mimetype": "text/x-python",
   "name": "python",
   "nbconvert_exporter": "python",
   "pygments_lexer": "ipython3",
   "version": "3.7.6"
  }
 },
 "nbformat": 4,
 "nbformat_minor": 4
}
