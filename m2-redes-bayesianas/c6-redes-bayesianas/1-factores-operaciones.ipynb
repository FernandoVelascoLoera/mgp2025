{
 "cells": [
  {
   "cell_type": "markdown",
   "metadata": {},
   "source": [
    "# Herramientas matemáticas: factores\n",
    "\n",
    "> Antes de comenzar nuestro estudio de modelos gráficos probabilísticos, comenzaremos por conocer y aprender a trabajar con un elemento matemático que nos va a resultar muy útil: **los factores**.\n",
    "\n",
    "> **Objetivos:**\n",
    "> - Entender el concepto de factor.\n",
    "> - Apropiar las operaciones que podemos desarrollar con los factores.\n",
    "> - Introducción al uso de la librería pgmpy\n",
    "\n",
    "> **Referencias:**\n",
    "> \n",
    "> - Probabilistic Graphical Models: Principles and Techniques, By Daphne Koller and Nir Friedman. Cap. 3.\n",
    "> - Mastering Probabilistic Graphical Models Using Python, By Ankur Ankan and Abinash Panda. Cap. 1.\n",
    "\n",
    "___"
   ]
  },
  {
   "cell_type": "markdown",
   "metadata": {},
   "source": [
    "## 1. Factores"
   ]
  },
  {
   "cell_type": "markdown",
   "metadata": {},
   "source": [
    "Un factor no es más que una función multivariable no negativa:\n",
    "\n",
    "> *Definición.* Un **factor** $\\phi(X_1, \\dots, X_k)$ es una función que toma un conjunto de VA $X_1, \\dots, X_k$ y devuelve un valor real no negativo:\n",
    "> \n",
    "> $$\\phi: \\mathrm{Val}(X_1, \\dots, X_k) \\to \\mathbb{R}_{\\geq 0}.$$\n",
    ">\n",
    "> El conjunto de variables $\\{X_1, \\dots, X_k\\}$ se le llama el **alcance** del factor $\\phi$, y se denota como $\\mathrm{alcance}[\\phi]=\\{X_1, \\dots, X_k\\}.$"
   ]
  },
  {
   "cell_type": "markdown",
   "metadata": {},
   "source": [
    "### ¿Y esto para qué?\n",
    "**Ejemplos:**\n",
    "\n",
    "- Una distribución conjunta: $\\phi_1(I, D, C) = P(I, D, C)$; $\\mathrm{alcance}[\\phi_1]=\\{I, D, C\\}$.\n",
    "\n",
    "- Una medida sin normalizar: $\\phi_2(I, D) = P(I, D, c^2)$; $\\mathrm{alcance}[\\phi_2]=\\{I, D\\}$.\n",
    "\n",
    "- Una distribución condicional: $\\phi_3(I, D, C) = P(I, D | C)$; $\\mathrm{alcance}[\\phi_3]=\\{I, D, C\\}$. Para cada valor de C tenemos una distribución sobre $I,D$.\n",
    "\n",
    "**Nota:** los factores no son necesariamente probabilidades."
   ]
  },
  {
   "cell_type": "markdown",
   "metadata": {},
   "source": [
    "### Operaciones de factores"
   ]
  },
  {
   "cell_type": "markdown",
   "metadata": {},
   "source": [
    "**1. Producto de factores**\n",
    "\n",
    "$$\\phi_1(A, B)$$\n",
    "\n",
    "|   A   |   B   | $\\phi_1$ |\n",
    "| ----- | ----- | -------- |\n",
    "| $a^0$ | $b^0$ | 5        |\n",
    "| $a^0$ | $b^1$ | 8        |\n",
    "| $a^1$ | $b^0$ | 1        |\n",
    "| $a^1$ | $b^1$ | 0        |\n",
    "| $a^2$ | $b^0$ | 3        |\n",
    "| $a^2$ | $b^1$ | 9        |\n",
    "\n",
    "$$\\phi_2(B, C)$$\n",
    "\n",
    "|   B   |   C   | $\\phi_2$ |\n",
    "| ----- | ----- | -------- |\n",
    "| $b^0$ | $c^0$ | 5        |\n",
    "| $b^0$ | $c^1$ | 7        |\n",
    "| $b^1$ | $c^0$ | 1        |\n",
    "| $b^1$ | $c^1$ | 2        |\n",
    "\n",
    "$$\\phi_3(A, B, C) = \\phi_1(A, B) \\times \\phi_2(B, C)$$\n",
    "\n",
    "|   A   |   B   |   C   | $\\phi_3$ |\n",
    "| ----- | ----- | ----- | ---------------- |\n",
    "| $a^0$ | $b^0$ | $c^0$ | $5\\times 5 = 25$ |\n",
    "| $a^0$ | $b^0$ | $c^1$ | $5\\times 7 = 35$ |\n",
    "| $a^0$ | $b^1$ | $c^0$ | $8\\times 1 = 8$  |\n",
    "| $a^0$ | $b^1$ | $c^1$ | $8\\times 2 = 16$ |\n",
    "| $a^1$ | $b^0$ | $c^0$ | $1\\times 5 = 5$  |\n",
    "| $a^1$ | $b^0$ | $c^1$ | $1\\times 7 = 7$  |\n",
    "| $a^1$ | $b^1$ | $c^0$ | $0\\times 1 = 0$  |\n",
    "| $a^1$ | $b^1$ | $c^1$ | $0\\times 2 = 0$  |\n",
    "| $a^2$ | $b^0$ | $c^0$ | $3\\times 5 = 15$ |\n",
    "| $a^2$ | $b^0$ | $c^1$ | $3\\times 7 = 21$ |\n",
    "| $a^2$ | $b^1$ | $c^0$ | $9\\times 1 = 9$  |\n",
    "| $a^2$ | $b^1$ | $c^1$ | $9\\times 2 = 18$ |"
   ]
  },
  {
   "cell_type": "code",
   "execution_count": 1,
   "metadata": {},
   "outputs": [],
   "source": [
    "# Importamos pgmpy.factors.discrete.DiscreteFactor\n",
    "from pgmpy.factors.discrete import DiscreteFactor"
   ]
  },
  {
   "cell_type": "code",
   "execution_count": 2,
   "metadata": {},
   "outputs": [
    {
     "name": "stdout",
     "output_type": "stream",
     "text": [
      "\u001b[1;31mInit signature:\u001b[0m \u001b[0mDiscreteFactor\u001b[0m\u001b[1;33m(\u001b[0m\u001b[0mvariables\u001b[0m\u001b[1;33m,\u001b[0m \u001b[0mcardinality\u001b[0m\u001b[1;33m,\u001b[0m \u001b[0mvalues\u001b[0m\u001b[1;33m,\u001b[0m \u001b[0mstate_names\u001b[0m\u001b[1;33m=\u001b[0m\u001b[1;33m{\u001b[0m\u001b[1;33m}\u001b[0m\u001b[1;33m)\u001b[0m\u001b[1;33m\u001b[0m\u001b[1;33m\u001b[0m\u001b[0m\n",
      "\u001b[1;31mDocstring:\u001b[0m     \n",
      "Initialize a `DiscreteFactor` class.\n",
      "\n",
      "Defined above, we have the following mapping from variable\n",
      "assignments to the index of the row vector in the value field:\n",
      "\n",
      "+-----+-----+-----+-------------------+\n",
      "|  x1 |  x2 |  x3 |    phi(x1, x2, x3)|\n",
      "+-----+-----+-----+-------------------+\n",
      "| x1_0| x2_0| x3_0|     phi.value(0)  |\n",
      "+-----+-----+-----+-------------------+\n",
      "| x1_0| x2_0| x3_1|     phi.value(1)  |\n",
      "+-----+-----+-----+-------------------+\n",
      "| x1_0| x2_1| x3_0|     phi.value(2)  |\n",
      "+-----+-----+-----+-------------------+\n",
      "| x1_0| x2_1| x3_1|     phi.value(3)  |\n",
      "+-----+-----+-----+-------------------+\n",
      "| x1_1| x2_0| x3_0|     phi.value(4)  |\n",
      "+-----+-----+-----+-------------------+\n",
      "| x1_1| x2_0| x3_1|     phi.value(5)  |\n",
      "+-----+-----+-----+-------------------+\n",
      "| x1_1| x2_1| x3_0|     phi.value(6)  |\n",
      "+-----+-----+-----+-------------------+\n",
      "| x1_1| x2_1| x3_1|     phi.value(7)  |\n",
      "+-----+-----+-----+-------------------+\n",
      "\n",
      "Parameters\n",
      "----------\n",
      "variables: list, array-like\n",
      "    List of variables on which the factor is to be defined i.e. scope of the factor.\n",
      "\n",
      "cardinality: list, array_like\n",
      "    List of cardinalities/no.of states of each variable. `cardinality`\n",
      "    array must have a value corresponding to each variable in\n",
      "    `variables`.\n",
      "\n",
      "values: list, array_like\n",
      "    List of values of factor.\n",
      "    A DiscreteFactor's values are stored in a row vector in the value\n",
      "    using an ordering such that the left-most variables as defined in\n",
      "    `variables` cycle through their values the fastest. Please refer\n",
      "    to examples for usage examples.\n",
      "\n",
      "Examples\n",
      "--------\n",
      ">>> import numpy as np\n",
      ">>> from pgmpy.factors.discrete import DiscreteFactor\n",
      ">>> phi = DiscreteFactor(['x1', 'x2', 'x3'], [2, 2, 2], np.ones(8))\n",
      ">>> phi\n",
      "<DiscreteFactor representing phi(x1:2, x2:2, x3:2) at 0x7f8188fcaa90>\n",
      ">>> print(phi)\n",
      "+------+------+------+-----------------+\n",
      "| x1   | x2   | x3   |   phi(x1,x2,x3) |\n",
      "|------+------+------+-----------------|\n",
      "| x1_0 | x2_0 | x3_0 |          1.0000 |\n",
      "| x1_0 | x2_0 | x3_1 |          1.0000 |\n",
      "| x1_0 | x2_1 | x3_0 |          1.0000 |\n",
      "| x1_0 | x2_1 | x3_1 |          1.0000 |\n",
      "| x1_1 | x2_0 | x3_0 |          1.0000 |\n",
      "| x1_1 | x2_0 | x3_1 |          1.0000 |\n",
      "| x1_1 | x2_1 | x3_0 |          1.0000 |\n",
      "| x1_1 | x2_1 | x3_1 |          1.0000 |\n",
      "+------+------+------+-----------------+\n",
      "\u001b[1;31mFile:\u001b[0m           c:\\users\\esjim\\anaconda3\\envs\\mgp2025_v4\\lib\\site-packages\\pgmpy\\factors\\discrete\\discretefactor.py\n",
      "\u001b[1;31mType:\u001b[0m           type\n",
      "\u001b[1;31mSubclasses:\u001b[0m     TabularCPD, JointProbabilityDistribution"
     ]
    }
   ],
   "source": [
    "# help DiscreteFactor\n",
    "DiscreteFactor?"
   ]
  },
  {
   "cell_type": "code",
   "execution_count": 3,
   "metadata": {},
   "outputs": [],
   "source": [
    "# Factores phi1, phi2\n",
    "phi1 = DiscreteFactor(\n",
    "    variables=['A', 'B'],\n",
    "    cardinality=[3, 2],\n",
    "    values=[5, 8, 1, 0, 3, 9]\n",
    ")\n",
    "phi2 = DiscreteFactor(\n",
    "    variables=['B', 'C'],\n",
    "    cardinality=[2, 2],\n",
    "    values=[5, 7, 1, 2]\n",
    ")"
   ]
  },
  {
   "cell_type": "code",
   "execution_count": 5,
   "metadata": {},
   "outputs": [
    {
     "name": "stdout",
     "output_type": "stream",
     "text": [
      "+------+------+------------+\n",
      "| A    | B    |   phi(A,B) |\n",
      "+======+======+============+\n",
      "| A(0) | B(0) |     5.0000 |\n",
      "+------+------+------------+\n",
      "| A(0) | B(1) |     8.0000 |\n",
      "+------+------+------------+\n",
      "| A(1) | B(0) |     1.0000 |\n",
      "+------+------+------------+\n",
      "| A(1) | B(1) |     0.0000 |\n",
      "+------+------+------------+\n",
      "| A(2) | B(0) |     3.0000 |\n",
      "+------+------+------------+\n",
      "| A(2) | B(1) |     9.0000 |\n",
      "+------+------+------------+\n"
     ]
    }
   ],
   "source": [
    "print(phi1)"
   ]
  },
  {
   "cell_type": "code",
   "execution_count": 6,
   "metadata": {},
   "outputs": [],
   "source": [
    "# Producto de factores\n",
    "phi3 = phi1.product(phi2, inplace=False)\n",
    "phi3_ = phi1 * phi2"
   ]
  },
  {
   "cell_type": "code",
   "execution_count": 7,
   "metadata": {},
   "outputs": [
    {
     "name": "stdout",
     "output_type": "stream",
     "text": [
      "+------+------+------+--------------+\n",
      "| B    | A    | C    |   phi(B,A,C) |\n",
      "+======+======+======+==============+\n",
      "| B(0) | A(0) | C(0) |      25.0000 |\n",
      "+------+------+------+--------------+\n",
      "| B(0) | A(0) | C(1) |      35.0000 |\n",
      "+------+------+------+--------------+\n",
      "| B(0) | A(1) | C(0) |       5.0000 |\n",
      "+------+------+------+--------------+\n",
      "| B(0) | A(1) | C(1) |       7.0000 |\n",
      "+------+------+------+--------------+\n",
      "| B(0) | A(2) | C(0) |      15.0000 |\n",
      "+------+------+------+--------------+\n",
      "| B(0) | A(2) | C(1) |      21.0000 |\n",
      "+------+------+------+--------------+\n",
      "| B(1) | A(0) | C(0) |       8.0000 |\n",
      "+------+------+------+--------------+\n",
      "| B(1) | A(0) | C(1) |      16.0000 |\n",
      "+------+------+------+--------------+\n",
      "| B(1) | A(1) | C(0) |       0.0000 |\n",
      "+------+------+------+--------------+\n",
      "| B(1) | A(1) | C(1) |       0.0000 |\n",
      "+------+------+------+--------------+\n",
      "| B(1) | A(2) | C(0) |       9.0000 |\n",
      "+------+------+------+--------------+\n",
      "| B(1) | A(2) | C(1) |      18.0000 |\n",
      "+------+------+------+--------------+\n"
     ]
    }
   ],
   "source": [
    "print(phi3)"
   ]
  },
  {
   "cell_type": "markdown",
   "metadata": {},
   "source": [
    "### Actividad:\n",
    "$$\\phi_1(X, Y)$$\n",
    "\n",
    "|   X   |   Y   | $\\phi_1$ |\n",
    "| ----- | ----- | -------- |\n",
    "| $x^0$ | $y^0$ | 0.8      |\n",
    "| $x^0$ | $y^1$ | 0.5      |\n",
    "| $x^1$ | $y^0$ | 0.5      |\n",
    "| $x^1$ | $y^1$ | 0.6      |\n",
    "\n",
    "$$\\phi_2(Y, Z)$$\n",
    "\n",
    "|   Y   |   Z   | $\\phi_2$ |\n",
    "| ----- | ----- | -------- |\n",
    "| $y^0$ | $z^0$ | 0.2      |\n",
    "| $y^0$ | $z^1$ | 0.2      |\n",
    "| $y^1$ | $z^0$ | 0.9      |\n",
    "| $y^1$ | $z^1$ | 1.0      |\n",
    "\n",
    "Si $\\psi(X,Y,Z) = \\phi_1(X, Y) \\phi_2(Y,Z)$\n",
    "- $\\psi(x^0, y^0, z^0)=?$\n",
    "- $\\psi(x^0, y^1, z^1)=?$\n",
    "- $\\psi(x^1, y^1, z^1)=?$"
   ]
  },
  {
   "cell_type": "code",
   "execution_count": 9,
   "metadata": {},
   "outputs": [],
   "source": [
    "phi1 = DiscreteFactor(\n",
    "    variables=['X', 'Y'],\n",
    "    cardinality=[2, 2],\n",
    "    values=[0.8, 0.5, 0.5, 0.6]\n",
    ")\n",
    "phi2 = DiscreteFactor(\n",
    "    variables=['Y', 'Z'],\n",
    "    cardinality=[2, 2],\n",
    "    values=[0.2, 0.2, 0.9, 1.]\n",
    ")"
   ]
  },
  {
   "cell_type": "code",
   "execution_count": 10,
   "metadata": {},
   "outputs": [
    {
     "name": "stdout",
     "output_type": "stream",
     "text": [
      "+------+------+------+--------------+\n",
      "| Y    | X    | Z    |   phi(Y,X,Z) |\n",
      "+======+======+======+==============+\n",
      "| Y(0) | X(0) | Z(0) |       0.1600 |\n",
      "+------+------+------+--------------+\n",
      "| Y(0) | X(0) | Z(1) |       0.1600 |\n",
      "+------+------+------+--------------+\n",
      "| Y(0) | X(1) | Z(0) |       0.1000 |\n",
      "+------+------+------+--------------+\n",
      "| Y(0) | X(1) | Z(1) |       0.1000 |\n",
      "+------+------+------+--------------+\n",
      "| Y(1) | X(0) | Z(0) |       0.4500 |\n",
      "+------+------+------+--------------+\n",
      "| Y(1) | X(0) | Z(1) |       0.5000 |\n",
      "+------+------+------+--------------+\n",
      "| Y(1) | X(1) | Z(0) |       0.5400 |\n",
      "+------+------+------+--------------+\n",
      "| Y(1) | X(1) | Z(1) |       0.6000 |\n",
      "+------+------+------+--------------+\n"
     ]
    }
   ],
   "source": [
    "print(phi1 * phi2)"
   ]
  },
  {
   "cell_type": "markdown",
   "metadata": {},
   "source": [
    "**2. Marginalización**\n",
    "\n",
    "$$\\phi_1(X, Y, Z)$$\n",
    "\n",
    "|   X   |   Y   |   Z   | $\\phi_1$ |\n",
    "| ----- | ----- | ----- | -------- |\n",
    "| $x^0$ | $y^0$ | $z^0$ | 10       |\n",
    "| $x^0$ | $y^0$ | $z^1$ | 5        |\n",
    "| $x^0$ | $y^1$ | $z^0$ | 15       |\n",
    "| $x^0$ | $y^1$ | $z^1$ | 16       |\n",
    "| $x^1$ | $y^0$ | $z^0$ | 14       |\n",
    "| $x^1$ | $y^0$ | $z^1$ | 30       |\n",
    "| $x^1$ | $y^1$ | $z^0$ | 2        |\n",
    "| $x^1$ | $y^1$ | $z^1$ | 8        |\n",
    "\n",
    "$\\psi(Y,Z) = \\sum_{X}\\phi_1(X, Y, Z)$\n",
    "\n",
    "|   Y   |   Z   | $\\psi$      |\n",
    "| ----- | ----- | ------------- |\n",
    "| $y^0$ | $z^0$ | 10 + 14 = 24  |\n",
    "| $y^0$ | $z^1$ | 5 + 30 = 35   |\n",
    "| $y^1$ | $z^0$ | 15 + 2 = 17   |\n",
    "| $y^1$ | $z^1$ | 16 + 8 = 24   |\n"
   ]
  },
  {
   "cell_type": "code",
   "execution_count": 11,
   "metadata": {},
   "outputs": [],
   "source": [
    "# Factor phi1\n",
    "phi1 = DiscreteFactor(\n",
    "    variables=['X', 'Y', 'Z'],\n",
    "    cardinality=[2, 2, 2],\n",
    "    values=[10, 5, 15, 16, 14, 30, 2, 8]\n",
    ")"
   ]
  },
  {
   "cell_type": "code",
   "execution_count": 12,
   "metadata": {},
   "outputs": [
    {
     "name": "stdout",
     "output_type": "stream",
     "text": [
      "+------+------+------------+\n",
      "| Y    | Z    |   phi(Y,Z) |\n",
      "+======+======+============+\n",
      "| Y(0) | Z(0) |    24.0000 |\n",
      "+------+------+------------+\n",
      "| Y(0) | Z(1) |    35.0000 |\n",
      "+------+------+------------+\n",
      "| Y(1) | Z(0) |    17.0000 |\n",
      "+------+------+------------+\n",
      "| Y(1) | Z(1) |    24.0000 |\n",
      "+------+------+------------+\n"
     ]
    }
   ],
   "source": [
    "# Marginalización resp. X\n",
    "phi1_marg_X = phi1.marginalize(variables=['X'], inplace=False)\n",
    "print(phi1_marg_X)"
   ]
  },
  {
   "cell_type": "code",
   "execution_count": 13,
   "metadata": {},
   "outputs": [
    {
     "name": "stdout",
     "output_type": "stream",
     "text": [
      "+------+----------+\n",
      "| Z    |   phi(Z) |\n",
      "+======+==========+\n",
      "| Z(0) |  41.0000 |\n",
      "+------+----------+\n",
      "| Z(1) |  59.0000 |\n",
      "+------+----------+\n"
     ]
    }
   ],
   "source": [
    "# Marginalización resp. X, Y\n",
    "phi1_marg_XY = phi1.marginalize(variables=['X', 'Y'], inplace=False)\n",
    "print(phi1_marg_XY)"
   ]
  },
  {
   "cell_type": "markdown",
   "metadata": {},
   "source": [
    "### Actividad:\n",
    "$$\\phi_1(X, Y)$$\n",
    "\n",
    "|   X   |   Y   | $\\phi_1$ |\n",
    "| ----- | ----- | -------- |\n",
    "| $x^0$ | $y^0$ | 0.8      |\n",
    "| $x^0$ | $y^1$ | 0.5      |\n",
    "| $x^1$ | $y^0$ | 0.5      |\n",
    "| $x^1$ | $y^1$ | 0.6      |\n",
    "\n",
    "Si $\\psi(Y) = \\sum_{X}\\phi_1(X, Y)$\n",
    "\n",
    "- $\\psi(y^0)=0.8 + 0.5 = 1.3$\n",
    "- $\\psi(y^1)=0.5 + 0.6 = 1.1$"
   ]
  },
  {
   "cell_type": "code",
   "execution_count": 14,
   "metadata": {},
   "outputs": [],
   "source": [
    "phi1 = DiscreteFactor(\n",
    "    variables=['X', 'Y'],\n",
    "    cardinality=[2, 2],\n",
    "    values=[0.8, 0.5, 0.5, 0.6]\n",
    ")"
   ]
  },
  {
   "cell_type": "code",
   "execution_count": 15,
   "metadata": {},
   "outputs": [
    {
     "name": "stdout",
     "output_type": "stream",
     "text": [
      "+------+----------+\n",
      "| Y    |   phi(Y) |\n",
      "+======+==========+\n",
      "| Y(0) |   1.3000 |\n",
      "+------+----------+\n",
      "| Y(1) |   1.1000 |\n",
      "+------+----------+\n"
     ]
    }
   ],
   "source": [
    "phi1_marg_X = phi1.marginalize(variables=['X'], inplace=False)\n",
    "print(phi1_marg_X)"
   ]
  },
  {
   "cell_type": "markdown",
   "metadata": {},
   "source": [
    "**3. Reducción**\n",
    "\n",
    "$$\\phi_1(X, Y, Z)$$\n",
    "\n",
    "|   X   |   Y   |   Z   | $\\phi_1$ |\n",
    "| ----- | ----- | ----- | -------- |\n",
    "| $x^0$ | $y^0$ | $z^0$ | 10       |\n",
    "| $x^0$ | $y^0$ | $z^1$ | 5        |\n",
    "| $x^0$ | $y^1$ | $z^0$ | 15       |\n",
    "| $x^0$ | $y^1$ | $z^1$ | 16       |\n",
    "| $x^1$ | $y^0$ | $z^0$ | 14       |\n",
    "| $x^1$ | $y^0$ | $z^1$ | 30       |\n",
    "| $x^1$ | $y^1$ | $z^0$ | 2        |\n",
    "| $x^1$ | $y^1$ | $z^1$ | 8        |\n",
    "\n",
    "$\\psi(X,Z) = \\phi_1(X, y^1, Z)$\n",
    "\n",
    "|   X   |   Y   |   Z   | $\\phi_1$ |\n",
    "| ----- | ----- | ----- | -------- |\n",
    "| $x^0$ | $y^1$ | $z^0$ | 15       |\n",
    "| $x^0$ | $y^1$ | $z^1$ | 16       |\n",
    "| $x^1$ | $y^1$ | $z^0$ | 2        |\n",
    "| $x^1$ | $y^1$ | $z^1$ | 8        |\n",
    "\n",
    "Como $Y=y^1$ es constante, el factor resultante no depende de Y:\n",
    "\n",
    "|   X   |   Z   | $\\phi_1$ |\n",
    "| ----- | ----- | -------- |\n",
    "| $x^0$ | $z^0$ | 15       |\n",
    "| $x^0$ | $z^1$ | 16       |\n",
    "| $x^1$ | $z^0$ | 2        |\n",
    "| $x^1$ | $z^1$ | 8        |"
   ]
  },
  {
   "cell_type": "code",
   "execution_count": 19,
   "metadata": {},
   "outputs": [],
   "source": [
    "# Factor phi1\n",
    "phi1 = DiscreteFactor(\n",
    "    variables=['X', 'Y', 'Z'],\n",
    "    cardinality=[2, 2, 2],\n",
    "    values=[10, 5, 15, 16, 14, 30, 2, 8]\n",
    ")"
   ]
  },
  {
   "cell_type": "code",
   "execution_count": 21,
   "metadata": {},
   "outputs": [
    {
     "name": "stdout",
     "output_type": "stream",
     "text": [
      "+------+------+------------+\n",
      "| X    | Z    |   phi(X,Z) |\n",
      "+======+======+============+\n",
      "| X(0) | Z(0) |    15.0000 |\n",
      "+------+------+------------+\n",
      "| X(0) | Z(1) |    16.0000 |\n",
      "+------+------+------------+\n",
      "| X(1) | Z(0) |     2.0000 |\n",
      "+------+------+------------+\n",
      "| X(1) | Z(1) |     8.0000 |\n",
      "+------+------+------------+\n"
     ]
    }
   ],
   "source": [
    "# Reducción phi1(X, y1, Z)\n",
    "phi1_reduce_y1 = phi1.reduce(values=[('Y', 1)], inplace=False)\n",
    "print(phi1_reduce_y1)"
   ]
  },
  {
   "cell_type": "code",
   "execution_count": 22,
   "metadata": {},
   "outputs": [
    {
     "name": "stdout",
     "output_type": "stream",
     "text": [
      "+------+----------+\n",
      "| X    |   phi(X) |\n",
      "+======+==========+\n",
      "| X(0) |  15.0000 |\n",
      "+------+----------+\n",
      "| X(1) |   2.0000 |\n",
      "+------+----------+\n"
     ]
    }
   ],
   "source": [
    "# Reducción phi1(X, y1, z0)\n",
    "phi1_reduce_y1z0 = phi1.reduce(values=[('Y', 1), ('Z', 0)], inplace=False)\n",
    "print(phi1_reduce_y1z0)"
   ]
  },
  {
   "cell_type": "markdown",
   "metadata": {},
   "source": [
    "### Actividad:\n",
    "$$\\phi_1(X, Y)$$\n",
    "\n",
    "|   X   |   Y   | $\\phi_1$ |\n",
    "| ----- | ----- | -------- |\n",
    "| $x^0$ | $y^0$ | 0.8      |\n",
    "| $x^0$ | $y^1$ | 0.5      |\n",
    "| $x^1$ | $y^0$ | 0.5      |\n",
    "| $x^1$ | $y^1$ | 0.6      |\n",
    "\n",
    "Si $\\psi(X) = \\phi_1(X, y^0)$\n",
    "\n",
    "- $\\psi(x^0)=0.8$\n",
    "- $\\psi(x^1)=0.5$"
   ]
  },
  {
   "cell_type": "code",
   "execution_count": null,
   "metadata": {},
   "outputs": [],
   "source": []
  },
  {
   "cell_type": "code",
   "execution_count": null,
   "metadata": {},
   "outputs": [],
   "source": []
  },
  {
   "cell_type": "markdown",
   "metadata": {},
   "source": [
    "<script>\n",
    "  $(document).ready(function(){\n",
    "    $('div.prompt').hide();\n",
    "    $('div.back-to-top').hide();\n",
    "    $('nav#menubar').hide();\n",
    "    $('.breadcrumb').hide();\n",
    "    $('.hidden-print').hide();\n",
    "  });\n",
    "</script>\n",
    "\n",
    "<footer id=\"attribution\" style=\"float:right; color:#808080; background:#fff;\">\n",
    "Created with Jupyter by Esteban Jiménez Rodríguez.\n",
    "</footer>"
   ]
  }
 ],
 "metadata": {
  "kernelspec": {
   "display_name": "mgp2025_v4",
   "language": "python",
   "name": "python3"
  },
  "language_info": {
   "codemirror_mode": {
    "name": "ipython",
    "version": 3
   },
   "file_extension": ".py",
   "mimetype": "text/x-python",
   "name": "python",
   "nbconvert_exporter": "python",
   "pygments_lexer": "ipython3",
   "version": "3.9.21"
  }
 },
 "nbformat": 4,
 "nbformat_minor": 4
}
