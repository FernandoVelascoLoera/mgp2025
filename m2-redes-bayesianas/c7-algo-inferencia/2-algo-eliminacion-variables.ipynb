{
 "cells": [
  {
   "cell_type": "markdown",
   "metadata": {},
   "source": [
    "# Algoritmo de eliminación de variables\n",
    "\n",
    "<img style=\"float: right; margin: 0px 0px 15px 15px;\" src=\"https://static.thenounproject.com/png/542457-200.png\" width=\"300px\" height=\"300px\" />\n",
    "\n",
    "> **Objetivos:**\n",
    "> - Describir intuitivamente el algoritmo de eliminación de variables.\n",
    "> - Usar el algoritmo suma-producto para resolver preguntas de probabilidad condicional.\n",
    "> - Usar el algoritmo max-suma para resolver preguntas de MAP.\n",
    "\n",
    "> **References:**\n",
    "> - Probabilistic Graphical Models: Principles and Techniques, By Daphne Koller and Nir Friedman. Ch. 9.\n",
    "> - Pattern Recognition and Machine Learning, by Christopher M. Bishop - Cap. 8.\n",
    "> - Bayesian Reasoning and Machine Learning by David Barber. Cap. 5.\n",
    "\n",
    "\n",
    "<p style=\"text-align:right;\"> Imagen recuperada de: https://static.thenounproject.com/png/542457-200.png.</p>\n",
    "\n",
    "___"
   ]
  },
  {
   "cell_type": "markdown",
   "metadata": {},
   "source": [
    "## 1. Eliminación de variables\n",
    "\n",
    "Es el algoritmo de inferencia más simple y fundamental. Introduciremos el algoritmo mediante un ejemplo:"
   ]
  },
  {
   "cell_type": "code",
   "execution_count": 1,
   "metadata": {},
   "outputs": [],
   "source": [
    "from IPython.display import Image"
   ]
  },
  {
   "cell_type": "code",
   "execution_count": null,
   "metadata": {},
   "outputs": [],
   "source": [
    "Image(\"figures/restaurant.png\")"
   ]
  },
  {
   "cell_type": "markdown",
   "metadata": {},
   "source": [
    "La probabilidad conjunta es:\n",
    "\n",
    "$$P(L,Q,C,N)= \\phi_L(L)\\phi_Q(Q)\\phi_C(C,L,Q)\\phi_N(N,L,C).$$"
   ]
  },
  {
   "cell_type": "markdown",
   "metadata": {},
   "source": [
    "Si queremos calcular $P(N)$ (<font color=blue>en el pizarrón, luego mostrar</font>):\n",
    "\n",
    "<!--\n",
    "$$\\begin{align} P(N) = & \\sum_{L,C,Q}\\phi_L(L)\\phi_Q(Q)\\phi_C(C,L,Q)\\phi_N(N,L,C) \\\\\n",
    "                    = & \\sum_{L}\\sum_{C}\\sum_{Q} \\phi_L(L)\\phi_Q(Q)\\phi_C(C,L,Q)\\phi_N(N,L,C) \\\\\n",
    "                    = & \\sum_{L}\\sum_{C} \\phi_L(L)\\phi_N(N,L,C) \\underbrace{\\sum_{Q} \\phi_Q(Q) \\phi_C(C,L,Q)}_{\\tau_1(C,L)} \\\\\n",
    "                    = & \\sum_{L} \\phi_L(L) \\underbrace{\\sum_{C}\\phi_N(N,L,C)\\tau_1(C,L)}_{\\tau_2(N,L)} \\\\\n",
    "                    = & \\sum_{L} \\phi_L(L)\\tau_2(N,L) = \\tau_3(N)\n",
    "\\end{align}$$\n",
    "-->"
   ]
  },
  {
   "cell_type": "code",
   "execution_count": 6,
   "metadata": {},
   "outputs": [],
   "source": [
    "# Import pgmpy.models.BayesianModel\n"
   ]
  },
  {
   "cell_type": "code",
   "execution_count": 4,
   "metadata": {},
   "outputs": [],
   "source": [
    "# Import pgmpy.factors.discrete.TabularCPD\n"
   ]
  },
  {
   "cell_type": "code",
   "execution_count": null,
   "metadata": {},
   "outputs": [],
   "source": [
    "# Define model skeleton\n"
   ]
  },
  {
   "cell_type": "code",
   "execution_count": 8,
   "metadata": {},
   "outputs": [],
   "source": [
    "# Define factors\n"
   ]
  },
  {
   "cell_type": "code",
   "execution_count": 9,
   "metadata": {},
   "outputs": [],
   "source": [
    "# Attach CPDs to the model\n"
   ]
  },
  {
   "cell_type": "code",
   "execution_count": null,
   "metadata": {},
   "outputs": [],
   "source": [
    "# Check if the model is correctly defined\n"
   ]
  },
  {
   "cell_type": "code",
   "execution_count": 11,
   "metadata": {},
   "outputs": [],
   "source": [
    "# Import pgmpy.inference.VariableElimination\n"
   ]
  },
  {
   "cell_type": "code",
   "execution_count": 12,
   "metadata": {},
   "outputs": [],
   "source": [
    "# Create inference object\n"
   ]
  },
  {
   "cell_type": "code",
   "execution_count": null,
   "metadata": {},
   "outputs": [],
   "source": [
    "# Perform query\n"
   ]
  },
  {
   "cell_type": "code",
   "execution_count": null,
   "metadata": {},
   "outputs": [],
   "source": [
    "# Show\n"
   ]
  },
  {
   "cell_type": "markdown",
   "metadata": {},
   "source": [
    "**¿Qué sucede si tenemos evidencia?**\n",
    "\n",
    "Ahora, calculemos $P(N, L=l^1)$:\n",
    "\n",
    "- Primero, debemos reducir nuestros factores de acuerdo a la evidencia: $\\phi_L(l^1)=\\phi_L'()$, $\\phi_C(C,l^1,Q)=\\phi_C'(C,Q)$, $\\phi_N(N,l^1,C)=\\phi_N'(N,C)$.\n",
    "- Después, ejecutamos el algoritmo normalmente:\n",
    "\n",
    "<!--\n",
    "$$\\begin{align} P(N, l^1) = & \\sum_{C,Q}\\phi_L'()\\phi_Q(Q)\\phi_C'(C,Q)\\phi_N'(N,C) \\\\\n",
    "                         = & \\sum_{C}\\sum_{Q} \\phi_L'()\\phi_Q(Q)\\phi_C'(C,Q)\\phi_N'(N,C) \\\\\n",
    "                         = & \\sum_{C} \\phi_L'()\\phi_N'(N,C) \\underbrace{\\sum_{Q} \\phi_Q(Q) \\phi_C'(C,Q)}_{\\tau_1(C)} \\\\\n",
    "                         = & \\sum_{C} \\phi_L'()\\phi_N'(N,C) \\tau_1(C)\n",
    "\\end{align}$$\n",
    "-->"
   ]
  },
  {
   "cell_type": "markdown",
   "metadata": {},
   "source": [
    "**Y, ¿Si queremos la probabilidad condicional?**\n",
    "\n",
    "Entonces, solo debemos normalizar:\n",
    "\n",
    "$$P(N|l^1)=\\frac{P(N,l^1)}{P(l^1)}.$$"
   ]
  },
  {
   "cell_type": "code",
   "execution_count": null,
   "metadata": {},
   "outputs": [],
   "source": []
  },
  {
   "cell_type": "code",
   "execution_count": null,
   "metadata": {},
   "outputs": [],
   "source": [
    "# Perform query\n"
   ]
  },
  {
   "cell_type": "code",
   "execution_count": null,
   "metadata": {},
   "outputs": [],
   "source": [
    "# Show\n"
   ]
  },
  {
   "cell_type": "markdown",
   "metadata": {},
   "source": [
    "### Formalmente\n",
    "\n",
    "El proceso de eliminar alguna variable $Z$ de un conjunto de factores $\\bar{\\Phi}$, se puede describir como:\n",
    "\n",
    "1. Determinar el conjunto de factores que involucran a la variable $Z$:\n",
    "\n",
    "   $$\\Phi' = \\left\\{\\phi_i \\in \\Phi : Z  \\in \\mathrm{scope}[\\phi_i]\\right\\}$$\n",
    "\n",
    "2. Calcular el producto:\n",
    "\n",
    "   $$\\psi = \\prod_{\\phi_i \\in \\Phi'} \\phi_i$$\n",
    "   \n",
    "3. Calcular la marginalización:\n",
    "\n",
    "   $$\\tau = \\sum_Z \\psi$$\n",
    "   \n",
    "4. Sobreescribir el conjunto de factores original:\n",
    "   \n",
    "   $$\\bar{\\Phi} := \\left(\\bar{\\Phi}\\setminus \\Phi'\\right) \\cup \\{\\tau\\}$$"
   ]
  },
  {
   "cell_type": "markdown",
   "metadata": {},
   "source": [
    "Por tanto, el algoritmo completo puede describirse como:"
   ]
  },
  {
   "cell_type": "markdown",
   "metadata": {},
   "source": [
    "1. El primer paso es reducir todos los factores de acuerdo a la evidencia, si es que hay."
   ]
  },
  {
   "cell_type": "markdown",
   "metadata": {},
   "source": [
    "2. Para cada variable $Z$ que no sea de interés:\n",
    "   - Eliminar la variable $Z$ de $\\bar{\\Phi}$."
   ]
  },
  {
   "cell_type": "markdown",
   "metadata": {},
   "source": [
    "3. Multiplicar los factores restantes."
   ]
  },
  {
   "cell_type": "markdown",
   "metadata": {},
   "source": [
    "## 2. Importancia del orden de eliminación\n",
    "\n",
    "El resultado final del algoritmo de eliminación de variables es invariante ante diferentes órdenes de eliminación. Sin embargo, la complejidad computacional puede cambiar dramáticamente dependiendo del orden de eliminación elegido.\n",
    "\n",
    "Por ejemplo, retomamos el ejemplo del restaurante.\n",
    "\n",
    "1. $Q-C-L$\n",
    "   \n",
    "   - Operation: $\\tau_1(C,L)=\\sum_{Q}\\phi_Q(Q)\\phi_C(C,L,Q)$\n",
    "   \n",
    "   - Operation: $\\tau_2(N,L)=\\sum_{C}\\phi_N(N,L,C)\\tau_1(C,L)$\n",
    "\n",
    "   - Operation: $\\tau_3(N)=\\sum_{L}\\phi_L(L)\\tau_2(N,L)$"
   ]
  },
  {
   "cell_type": "code",
   "execution_count": 17,
   "metadata": {},
   "outputs": [],
   "source": []
  },
  {
   "cell_type": "code",
   "execution_count": null,
   "metadata": {},
   "outputs": [],
   "source": [
    "# Perform query with given elimination order\n"
   ]
  },
  {
   "cell_type": "code",
   "execution_count": null,
   "metadata": {},
   "outputs": [],
   "source": []
  },
  {
   "cell_type": "markdown",
   "metadata": {},
   "source": [
    "2. $L-C-Q$\n",
    "\n",
    "   - Operation: $\\tau_1(Q,C,N) = \\sum_{L} \\phi_L(L) \\phi_C(C,L,Q) \\phi_N(N,L,C)$\n",
    "\n",
    "   - Operation: $\\tau_2(Q,N) = \\sum_{C} \\tau_1(Q,C,N)$\n",
    "\n",
    "   - Operation: $\\tau_3(Q) = \\sum_{Q} \\phi_Q(Q)\\tau_2(Q,N)$"
   ]
  },
  {
   "cell_type": "code",
   "execution_count": null,
   "metadata": {},
   "outputs": [],
   "source": [
    "# Perform query with given elimination order\n"
   ]
  },
  {
   "cell_type": "code",
   "execution_count": null,
   "metadata": {},
   "outputs": [],
   "source": []
  },
  {
   "cell_type": "markdown",
   "metadata": {},
   "source": [
    "### Entonces, ¿Cómo podemos elegir el orden de eliminación?\n",
    "\n",
    "Se pueden obtener ideas bastante buenas de la representación gráfica. No cubriremos esto acá pero puedes revisar la Sección 9.4, páginas 305-315 de Probabilistic Graphical Models: Principles and Techniques."
   ]
  },
  {
   "cell_type": "markdown",
   "metadata": {},
   "source": [
    "En la práctica, normalmente se usan algoritmos **greedy** con funciones heurísticas de costo: \n",
    "\n",
    "> En cada iteración se calcula qué variable eliminar para obtener el menor costo local.\n",
    "\n",
    "> These algorithms are not optimal, but perform sufficiently well. "
   ]
  },
  {
   "cell_type": "markdown",
   "metadata": {},
   "source": [
    "Funciones de costo comunes:\n",
    "\n",
    "- min-weight: # de valores del factor intermedio $\\psi$.\n",
    "- min-neighbors: # de nodos resultantes después de la elimionación.\n",
    "- min-fill: # de arcos nuevos de relleno."
   ]
  },
  {
   "cell_type": "code",
   "execution_count": 23,
   "metadata": {},
   "outputs": [],
   "source": []
  },
  {
   "cell_type": "code",
   "execution_count": null,
   "metadata": {},
   "outputs": [],
   "source": [
    "# min-weight\n"
   ]
  },
  {
   "cell_type": "code",
   "execution_count": null,
   "metadata": {},
   "outputs": [],
   "source": [
    "# min-neighbors\n"
   ]
  },
  {
   "cell_type": "code",
   "execution_count": null,
   "metadata": {},
   "outputs": [],
   "source": [
    "# min-fill (default)\n"
   ]
  },
  {
   "cell_type": "markdown",
   "metadata": {},
   "source": [
    "## 3. Eliminación max-producto\n",
    "\n",
    "Hasta ahora hemos visto el algoritmo de suma-producto para realizar inferencias del tipo de probabilidad condicional.\n",
    "\n",
    "¿Cómo podemos realizar inferencias del tipo MAP?\n",
    "\n",
    "**La respuesta es: muy similarmente.** Veámoslo a través de un ejemplo:"
   ]
  },
  {
   "cell_type": "code",
   "execution_count": null,
   "metadata": {},
   "outputs": [],
   "source": [
    "Image(\"figures/simpleExample.png\")"
   ]
  },
  {
   "cell_type": "markdown",
   "metadata": {},
   "source": [
    "Nuestro objetivo es calcular:\n",
    "\n",
    "$$\\begin{align}\n",
    "\\max_{a,b} P(A=a, B=b)  & = \\max_{a,b} P(A=a)P(B=b | A=a) \\\\\n",
    "                        & = \\max_{a} \\max_{b} P(A=a)P(B=b | A=a).\n",
    "\\end{align}$$"
   ]
  },
  {
   "cell_type": "markdown",
   "metadata": {},
   "source": [
    "De esta expresión, deberíamos elegir $a$ de forma que:\n",
    "\n",
    "$$\\max_{b} P(A=a)P(B=b | A=a) = P(A=a) \\max_{b}P(B=b | A=a)$$\n",
    "\n",
    "sea máximo. De manera que,\n",
    "\n",
    "- Una **condición necesaria** de la asignación MAP $a,b$ es que $b$ se selecciones para maximizar $P(B=b | A=a)$. \n",
    "\n",
    "- Esto no es suficiente, pues debemos elegir $a$ apropiadamente."
   ]
  },
  {
   "cell_type": "markdown",
   "metadata": {},
   "source": [
    "Por ejemplo, considere las siguientes CPDs"
   ]
  },
  {
   "cell_type": "code",
   "execution_count": null,
   "metadata": {},
   "outputs": [],
   "source": [
    "Image(\"figures/simpleExample2.png\")"
   ]
  },
  {
   "cell_type": "markdown",
   "metadata": {},
   "source": [
    "Denotemos $\\max_{b}P(B=b | A=a) = \\phi_1(a)$. Luego\n",
    "\n",
    "- $\\phi_1(a^0)=0.9$\n",
    "- $\\phi_1(a^1)=0.55$\n",
    "\n",
    "Finalmente,\n",
    "\n",
    "$$\\max_{a} P(a) \\phi_1(a) = \\max_{a} \\phi_2(a)=0.36$$\n",
    "\n",
    "| $A$ | $\\phi_2$           |\n",
    "| --- | ------------------ |\n",
    "|$a^0$|$0.9\\times0.4=0.36$ |\n",
    "|$a^1$|$0.55\\times0.6=0.33$|"
   ]
  },
  {
   "cell_type": "markdown",
   "metadata": {},
   "source": [
    "### Comentarios importantes:"
   ]
  },
  {
   "cell_type": "markdown",
   "metadata": {},
   "source": [
    "- Podemos notar que la operación $\\max_{b}P(B=b | A=a) = \\phi_1(a)$ corresponde a una *max-marginalización* del factor $P(B|A)$."
   ]
  },
  {
   "cell_type": "markdown",
   "metadata": {},
   "source": [
    "- Tal como en inferencia de probabilidad condicional, este paso marginaliza la variable $B$, no por suma, sino por una maximización."
   ]
  },
  {
   "cell_type": "markdown",
   "metadata": {},
   "source": [
    "- Punto clave: supongamos que tenemos dos factores $\\phi_1,\\phi_2$ tales que $X\\notin \\mathrm{scope}[\\phi_1]$, entonces\n",
    "\n",
    "  $$\\max_{X} \\phi_1 \\phi_2 = \\phi_1 \\max_{X} \\phi_2.$$\n",
    " \n",
    "  Esto es, podemos \"introducir\" las operaciones de maximización (tal y como lo hicimos con las sumas) sobre los factores que no dependen de la variables siendo maximizada. Similarmente,\n",
    "  \n",
    "  $$\\max_{X} (\\phi_1 + \\phi_2) = \\phi_1 + \\max_{X} \\phi_2.$$"
   ]
  },
  {
   "cell_type": "markdown",
   "metadata": {},
   "source": [
    "Este último comentario nos lleva directamente a los algoritmos de **eliminación de variables max-producto and max-suma** los cuales son completamente duales al algoritmo de **suma-producto** que vimos al inicio de est notebook."
   ]
  },
  {
   "cell_type": "markdown",
   "metadata": {},
   "source": [
    "### Algoritmo max-producto\n",
    "   \n",
    "1. Determinar el conjunto de factores que involucran a la variable $Z$:\n",
    "\n",
    "   $$\\Phi' = \\left\\{\\phi_i \\in \\Phi : Z  \\in \\mathrm{scope}[\\phi_i]\\right\\}$$\n",
    "\n",
    "2. Calcular el producto:\n",
    "\n",
    "   $$\\psi = \\prod_{\\phi_i \\in \\Phi'} \\phi_i$$\n",
    "   \n",
    "3. Calcular la max-marginalización:\n",
    "\n",
    "   $$\\tau = \\max_Z \\psi$$\n",
    "   \n",
    "   Y guardar la variable $z^\\ast$ que maximiza $\\psi$.\n",
    "   \n",
    "4. Sobreescribir el conjunto de factores original:\n",
    "   \n",
    "   $$\\bar{\\Phi} := \\left(\\bar{\\Phi}\\setminus \\Phi'\\right) \\cup \\{\\tau\\}$$"
   ]
  },
  {
   "cell_type": "markdown",
   "metadata": {},
   "source": [
    "### Algoritmo max-suma\n",
    "\n",
    "A menudo, los valores de algunos factores son tan pequeños (probabilidad) que cuando los multiplicamos, producen valores aún más pequeños que la resolución de nuestra memoria: **underflow numérico**.\n",
    "\n",
    "Una manera efectiva de trabajar con esta situación es considerar el $\\log$ de los factores.\n",
    "\n",
    "Tenemos que:\n",
    "\n",
    "$$P_{\\bar{\\Phi}} (\\bar{X}) \\propto \\prod_{k} \\phi_{k} (\\bar{X}_k)$$\n",
    "\n",
    "y queremos,\n",
    "\n",
    "$$\\arg \\max_{X} \\prod_{k} \\phi_{k} (\\bar{X}_k) = \\arg \\max_{X} \\log\\left(\\prod_{k} \\phi_{k} (\\bar{X}_k)\\right) = \\arg \\max_{X} \\sum_{k} \\log\\left(\\phi_{k} (\\bar{X}_k)\\right),$$\n",
    "\n",
    "dado que el $\\log$ es una función creciente."
   ]
  },
  {
   "cell_type": "markdown",
   "metadata": {},
   "source": [
    "Así, convirtiendo los factores con el logaritmo, nos permite intercambiar productos por sumas, obteniendo cierta **robustez práctica contra el underflow numérico**.\n",
    "\n",
    "El algoritmo es completamente análogo:"
   ]
  },
  {
   "cell_type": "markdown",
   "metadata": {},
   "source": [
    "### Max-sum variable elimination algorithm\n",
    "\n",
    "0. Tomar el $\\log$ de cada factor:\n",
    "\n",
    "   $$\\theta_k(\\bar{X}_k) = \\log{\\phi_k}(\\bar{X}_k).$$\n",
    "   \n",
    "   $$\\bar{\\Theta} = \\{\\theta_{1}(\\bar{X}_1), \\dots, \\theta_{m}(\\bar{X}_m)\\}.$$\n",
    "\n",
    "1. Determinar el conjunto de factores que involucran a la variable $Z$:\n",
    "\n",
    "   $$\\bar{\\Theta}' = \\left\\{\\theta_i \\in \\bar{\\Theta} : Z  \\in \\mathrm{scope}[\\theta_i]\\right\\}$$\n",
    "\n",
    "2. Calcular la suma:\n",
    "\n",
    "   $$\\psi = \\sum_{\\theta_i \\in \\bar{\\Theta}'} \\phi_i$$\n",
    "   \n",
    "3. Calcular la max-marginalización:\n",
    "\n",
    "   $$\\tau = \\max_Z \\psi$$\n",
    "   \n",
    "   Y guardar la variable $z^\\ast$ que maximiza $\\psi$.\n",
    "   \n",
    "4. Sobreescribir el conjunto de factores original:\n",
    "   \n",
    "   $$\\bar{\\Theta} := \\left(\\bar{\\Theta}\\setminus \\bar{\\Theta}'\\right) \\cup \\{\\tau\\}$$"
   ]
  },
  {
   "cell_type": "code",
   "execution_count": null,
   "metadata": {},
   "outputs": [],
   "source": [
    "# Create VariableElimination inference object\n"
   ]
  },
  {
   "cell_type": "code",
   "execution_count": null,
   "metadata": {},
   "outputs": [],
   "source": [
    "# Map query\n"
   ]
  },
  {
   "cell_type": "code",
   "execution_count": null,
   "metadata": {},
   "outputs": [],
   "source": []
  },
  {
   "cell_type": "markdown",
   "metadata": {},
   "source": [
    "# 4. Aplicación - Clasificación\n",
    "\n",
    "Usemos el ejemplo de la clase 1\n",
    "\n",
    "| Type of flower | label  |\n",
    "| -------------- | ------ |\n",
    "| Setosa         | 0      |\n",
    "| Versicolor     | 1      |\n",
    "| Virginica      | 2      |"
   ]
  },
  {
   "cell_type": "code",
   "execution_count": null,
   "metadata": {},
   "outputs": [],
   "source": [
    "# Library imports (sklearn.datasets.load_iris, pandas y numpy)\n"
   ]
  },
  {
   "cell_type": "code",
   "execution_count": null,
   "metadata": {},
   "outputs": [],
   "source": [
    "# Data loading (integer parts, for simplicity)\n"
   ]
  },
  {
   "cell_type": "code",
   "execution_count": 36,
   "metadata": {},
   "outputs": [],
   "source": [
    "# Import matplotlib.pyplot\n"
   ]
  },
  {
   "cell_type": "code",
   "execution_count": null,
   "metadata": {},
   "outputs": [],
   "source": [
    "# Scatter plot (largo vs. ancho), color regarding type of flower. Add a bit of noise\n"
   ]
  },
  {
   "cell_type": "code",
   "execution_count": 45,
   "metadata": {},
   "outputs": [],
   "source": [
    "from IPython.display import Image"
   ]
  },
  {
   "cell_type": "code",
   "execution_count": null,
   "metadata": {},
   "outputs": [],
   "source": [
    "Image('figures/iris.png')"
   ]
  },
  {
   "cell_type": "code",
   "execution_count": 47,
   "metadata": {},
   "outputs": [],
   "source": [
    "# Flower model\n"
   ]
  },
  {
   "cell_type": "code",
   "execution_count": 48,
   "metadata": {},
   "outputs": [],
   "source": [
    "# Train/test split\n"
   ]
  },
  {
   "cell_type": "code",
   "execution_count": 51,
   "metadata": {},
   "outputs": [],
   "source": [
    "# Train model\n"
   ]
  },
  {
   "cell_type": "code",
   "execution_count": null,
   "metadata": {},
   "outputs": [],
   "source": [
    "# Predict (MAP Assignment)\n"
   ]
  },
  {
   "cell_type": "code",
   "execution_count": null,
   "metadata": {},
   "outputs": [],
   "source": [
    "# Accuracy\n"
   ]
  },
  {
   "cell_type": "code",
   "execution_count": null,
   "metadata": {},
   "outputs": [],
   "source": []
  },
  {
   "cell_type": "markdown",
   "metadata": {},
   "source": [
    "<script>\n",
    "  $(document).ready(function(){\n",
    "    $('div.prompt').hide();\n",
    "    $('div.back-to-top').hide();\n",
    "    $('nav#menubar').hide();\n",
    "    $('.breadcrumb').hide();\n",
    "    $('.hidden-print').hide();\n",
    "  });\n",
    "</script>\n",
    "\n",
    "<footer id=\"attribution\" style=\"float:right; color:#808080; background:#fff;\">\n",
    "Created with Jupyter by Esteban Jiménez Rodríguez.\n",
    "</footer>"
   ]
  }
 ],
 "metadata": {
  "kernelspec": {
   "display_name": "mgp2025_v4",
   "language": "python",
   "name": "python3"
  },
  "language_info": {
   "codemirror_mode": {
    "name": "ipython",
    "version": 3
   },
   "file_extension": ".py",
   "mimetype": "text/x-python",
   "name": "python",
   "nbconvert_exporter": "python",
   "pygments_lexer": "ipython3",
   "version": "3.9.21"
  }
 },
 "nbformat": 4,
 "nbformat_minor": 4
}
