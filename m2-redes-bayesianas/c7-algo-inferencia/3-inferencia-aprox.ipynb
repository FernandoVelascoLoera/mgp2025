{
 "cells": [
  {
   "cell_type": "markdown",
   "metadata": {},
   "source": [
    "# Inferencia aproximada y métodos de muestreo\n",
    "\n",
    "<img style=\"float: right; margin: 0px 0px 15px 15px;\" src=\"https://upload.wikimedia.org/wikipedia/commons/b/bf/Simple_random_sampling.PNG\" width=\"400px\" height=\"400px\" />\n",
    "\n",
    "> Hemos desarrollado métodos de **inferencia exacta** sobre redes Bayesianas. Aunque estos métodos explotan la estructura gráfica de nuestros modelos, no son computacionalmente tratables en el caso general, en el sentido de que el tiempo que necesitan para obtener un resultado es exponencial en el tamaño del problema.\n",
    ">\n",
    "> Por tanto, estudiaremos métodos que nos permitan realizar inferencia aproximada sobre redes Bayesianas, cuyo tiempo de cómputo puede ser significativamente menor (dependiendo de la precisión deseada).\n",
    "\n",
    "> **Objetivos:**\n",
    "> - Recordar cómo estimar valores esperados usando muestras.\n",
    "> - Estudiar un método simple de muestreo para redes Bayesianas.\n",
    "\n",
    "> **Referencias:**\n",
    "> - Probabilistic Graphical Models: Principles and Techniques, By Daphne Koller and Nir Friedman. Ch. 12.\n",
    "> - Mastering Probabilistic Graphical Models Using Python, By Ankur Ankan and Abinash Panda. Ch. 4.\n",
    "\n",
    "\n",
    "<p style=\"text-align:right;\"> Imagen recuperada de: https://upload.wikimedia.org/wikipedia/commons/b/bf/Simple_random_sampling.PNG.</p>\n",
    "\n",
    "___"
   ]
  },
  {
   "cell_type": "markdown",
   "metadata": {},
   "source": [
    "## 1. Estimación a partir de muestras\n",
    "\n",
    "Antes que nada, recordemos cómo podemos estimar cosas sencillas usando muestras de una distribución $P$."
   ]
  },
  {
   "cell_type": "markdown",
   "metadata": {},
   "source": [
    "Sea $\\mathcal{D}=\\{x_1, x_2, \\dots, x_N\\}$ un conjunto de datos de muestras **independientes e identicamente distribuidas (IID)** de una distribución $P(X=x)$.\n",
    "\n",
    "Por ejemplo, si $X$ es una VA binaria ($\\mathrm{Val}(X)=\\{x^0, x^1\\}$) y $P(X=x^1)=p$, entonces un estimador para $p$es:\n",
    "\n",
    "$$\\hat{p} = \\frac{1}{N} \\sum_{i=1}^{N} I(x_i = x^1).$$\n",
    "\n",
    "Veamos:"
   ]
  },
  {
   "cell_type": "code",
   "execution_count": null,
   "metadata": {},
   "outputs": [],
   "source": [
    "# Import numpy\n"
   ]
  },
  {
   "cell_type": "code",
   "execution_count": null,
   "metadata": {},
   "outputs": [],
   "source": [
    "# np.random.choice\n"
   ]
  },
  {
   "cell_type": "code",
   "execution_count": null,
   "metadata": {},
   "outputs": [],
   "source": [
    "# Sample the binary distribution\n"
   ]
  },
  {
   "cell_type": "code",
   "execution_count": null,
   "metadata": {},
   "outputs": [],
   "source": [
    "# Estimation of p\n"
   ]
  },
  {
   "cell_type": "markdown",
   "metadata": {},
   "source": [
    "Más generalmente, para cualquier distribución $P$ y función $f$,\n",
    "\n",
    "$$E_P[f] \\approx \\frac{1}{N} \\sum_{i=1}^{N}f(x_i).$$"
   ]
  },
  {
   "cell_type": "markdown",
   "metadata": {},
   "source": [
    "**Aplicación de este simple concepto:**\n",
    "\n",
    "- [Montecarlo integration](https://en.wikipedia.org/wiki/Monte_Carlo_integration)"
   ]
  },
  {
   "cell_type": "markdown",
   "metadata": {},
   "source": [
    "### ¿Cómo podemos muestrear de una distribución multinomial?\n",
    "\n",
    "Sea $X$ una VA discreta, con $\\mathrm{Val}(X)=\\{x^1, x^2, \\dots, x^k\\}$, y $P(x^i) = \\theta^i$."
   ]
  },
  {
   "cell_type": "markdown",
   "metadata": {},
   "source": [
    "Normalmente tendremos a la mano un generador de números pseudoaleatorio de la distribución uniforme $\\mathcal{U}[0, 1]$ (probabilidad igual de obtener cualquier número entre 0 y 1):"
   ]
  },
  {
   "cell_type": "code",
   "execution_count": null,
   "metadata": {},
   "outputs": [],
   "source": [
    "# numpy.random.rand\n"
   ]
  },
  {
   "cell_type": "markdown",
   "metadata": {},
   "source": [
    "Podemos usar esto para muestrear la distribución multinomial como en la siguiente imagen:"
   ]
  },
  {
   "cell_type": "code",
   "execution_count": 1,
   "metadata": {},
   "outputs": [],
   "source": [
    "from IPython.display import Image"
   ]
  },
  {
   "cell_type": "code",
   "execution_count": null,
   "metadata": {},
   "outputs": [],
   "source": [
    "Image(filename='figures/discrete_sampling.png')"
   ]
  },
  {
   "cell_type": "markdown",
   "metadata": {},
   "source": [
    "### ¿Qué garantías teóricas tenemos?"
   ]
  },
  {
   "cell_type": "markdown",
   "metadata": {},
   "source": [
    "> *Teorema (cota de Hoeffding).* Para el estimador $\\hat{p} = \\frac{1}{N} \\sum_{i=1}^{N} I(x_i = x^1)$, la desigualdad\n",
    "> \n",
    "> $$P_{\\mathcal{D}}(\\hat{p}\\notin[p-\\epsilon, p+\\epsilon]) \\leq 2 e^{-2 N \\epsilon^2}$$\n",
    ">\n",
    "> se satisface."
   ]
  },
  {
   "cell_type": "markdown",
   "metadata": {},
   "source": [
    "> *Teorema (cota de Chernoff).* Para el estimador $\\hat{p} = \\frac{1}{N} \\sum_{i=1}^{N} I(x_i = x^1)$, la desigualdad\n",
    "> \n",
    "> $$P_{\\mathcal{D}}(\\hat{p}\\notin[p(1-\\epsilon), p(1+\\epsilon)]) \\leq 2 e^{- N p \\epsilon^2 / 3}$$\n",
    ">\n",
    "> se satisface."
   ]
  },
  {
   "cell_type": "markdown",
   "metadata": {},
   "source": [
    "**Comentarios:**\n",
    "\n",
    "1. Hoeffding: error aditivo\n",
    "2. Chernoff: errror multiplicativo\n",
    "3. Ambos expresan que \"la probabilidad de un dataset *malo* (con error $\\epsilon$)\" es una función decreciente del número de muestras.\n",
    "4. Estas garantías se extienden a estimación de funciones generales.\n",
    "5. Problemas cuando $p$ (el valor real) es pequeño: $\\epsilon$ debe ser pequeño relativo a $p$."
   ]
  },
  {
   "cell_type": "markdown",
   "metadata": {},
   "source": [
    "**Ejercicio.**\n",
    "\n",
    "Suponga que queremos estar $1-\\delta$ seguros que tendremos un buen estimador. ¿Cuántas muestras necesitamos?"
   ]
  },
  {
   "cell_type": "markdown",
   "metadata": {},
   "source": [
    "## 2. Muestreo hacia adelante de redes Bayesianas"
   ]
  },
  {
   "cell_type": "markdown",
   "metadata": {},
   "source": [
    "Existen varias maneras de muestrear una red Bayesiana. El *muestreo hacia adelante* es quizá la manera más fácil y práctica de hacerlo, dado que se hace en la dirección causal del modelo."
   ]
  },
  {
   "cell_type": "markdown",
   "metadata": {},
   "source": [
    "Consideremos la red del estudiante:"
   ]
  },
  {
   "cell_type": "code",
   "execution_count": null,
   "metadata": {},
   "outputs": [],
   "source": [
    "Image(filename='figures/Student1.png')"
   ]
  },
  {
   "cell_type": "markdown",
   "metadata": {},
   "source": [
    "El muestreo se hace en dirección causal:\n",
    "\n",
    "1. Comenzamos con los nodos que no tienen nodos padres ($D,I$):\n",
    "   - $d^0, i^1$.\n",
    "\n",
    "2. Una vez los nodos padres de un nodo han sido muestrados, podemos muestrear dicho nodo usando la fila correspondiente de la distribución condicional ($C,E$ usando las filas correspondientes a $i^1, d^0$):\n",
    "   - $c^0, e^0$.\n",
    "   - $r^1$\n",
    "\n",
    "3. Finalmente, la muestra completa es $d^0, i^1, c^0, e^0, r^1$."
   ]
  },
  {
   "cell_type": "markdown",
   "metadata": {},
   "source": [
    "### ¿Cómo estimamos probabilidades usando estas muestras?\n",
    "\n",
    "1. Objetivo: estimar $P(\\bar{Y}=\\bar{y})$ (o una función de $\\bar{Y}$).\n",
    "\n",
    "   - Generar muestras de la red Bayesiana. ¿Cuántas?\n",
    "   - Contar el número de veces que $\\bar{Y}=\\bar{y}$ y calcular su frecuencia relativa."
   ]
  },
  {
   "cell_type": "markdown",
   "metadata": {},
   "source": [
    "### ¿Y si tenemos evidencia?\n",
    "\n",
    "2. Objetivo: estimar $P(\\bar{Y}=\\bar{y} | \\bar{E}=\\bar{e})$.\n",
    "\n",
    "   - Algoritmo de muestreo y rechazo:\n",
    "     - Generar muestras de la red Bayesiana.\n",
    "     - Tirar las muestras en las que $\\bar{E} \\neq \\bar{e}$\n",
    "     - Contar las veces que $\\bar{Y}=\\bar{y}$ y calcular su frecuencia relativa.\n",
    "     \n",
    "   - Fracción esperada de muestras que quedan después de tirar las muestras no consistentes con la evidencia: $P(\\bar{e})$.\n",
    "   - Por tanto, deberíamos generar: $N\\geq \\frac{\\log(2/\\delta)}{2P(\\bar{e})\\epsilon^2}$ samples"
   ]
  },
  {
   "cell_type": "markdown",
   "metadata": {},
   "source": [
    "> El número de muestras crece con el número de variables observadas."
   ]
  },
  {
   "cell_type": "markdown",
   "metadata": {},
   "source": [
    "### ¿Cómo se hace con `pgmpy`?\n",
    "\n",
    "Inferencia exacta:"
   ]
  },
  {
   "cell_type": "code",
   "execution_count": null,
   "metadata": {},
   "outputs": [],
   "source": [
    "# Importamos pgmpy.models.BayesianModel\n",
    "from pgmpy.models import BayesianModel\n",
    "# Importamos pgmpy.factors.discrete.TabularCPD\n",
    "from pgmpy.factors.discrete import TabularCPD"
   ]
  },
  {
   "cell_type": "code",
   "execution_count": null,
   "metadata": {},
   "outputs": [],
   "source": [
    "# Definimos el esqueleto de la red mediante los arcos\n"
   ]
  },
  {
   "cell_type": "code",
   "execution_count": null,
   "metadata": {},
   "outputs": [],
   "source": [
    "# Definimos distribución condicional de D\n",
    "cpd_D = TabularCPD(variable='D',\n",
    "                   variable_card=2,\n",
    "                   values=[[0.6],\n",
    "                           [0.4]])\n",
    "# Definimos distribución condicional de I\n",
    "cpd_I = TabularCPD(variable='I',\n",
    "                   variable_card=2,\n",
    "                   values=[[0.7],\n",
    "                           [0.3]])\n",
    "# Definimos distribución condicional de C\n",
    "cpd_C = TabularCPD(variable='C',\n",
    "                   variable_card=3,\n",
    "                   evidence=['I', 'D'],\n",
    "                   evidence_card=[2, 2],\n",
    "                   values=[[0.30, 0.70, 0.02, 0.20],\n",
    "                           [0.40, 0.25, 0.08, 0.30],\n",
    "                           [0.30, 0.05, 0.90, 0.50]])\n",
    "# Definimos distribución condicional de P\n",
    "cpd_E = TabularCPD(variable='E',\n",
    "                   variable_card=2,\n",
    "                   evidence=['I'],\n",
    "                   evidence_card=[2],\n",
    "                   values=[[0.95, 0.2],\n",
    "                           [0.05, 0.8]])\n",
    "# Definimos distribución condicional de R\n",
    "cpd_R = TabularCPD(variable='R',\n",
    "                   variable_card=2,\n",
    "                   evidence=['C'],\n",
    "                   evidence_card=[3],\n",
    "                   values=[[0.99, 0.4, 0.1],\n",
    "                           [0.01, 0.6, 0.9]])"
   ]
  },
  {
   "cell_type": "code",
   "execution_count": null,
   "metadata": {},
   "outputs": [],
   "source": [
    "# Associating the CPDs with the network\n",
    "student_model.add_cpds(cpd_D, cpd_I, cpd_C, cpd_E, cpd_R)"
   ]
  },
  {
   "cell_type": "code",
   "execution_count": null,
   "metadata": {},
   "outputs": [],
   "source": [
    "student_model.check_model()"
   ]
  },
  {
   "cell_type": "code",
   "execution_count": null,
   "metadata": {},
   "outputs": [],
   "source": [
    "# Import pgmpy.inference.VariableElimination\n"
   ]
  },
  {
   "cell_type": "code",
   "execution_count": null,
   "metadata": {},
   "outputs": [],
   "source": []
  },
  {
   "cell_type": "code",
   "execution_count": null,
   "metadata": {},
   "outputs": [],
   "source": []
  },
  {
   "cell_type": "markdown",
   "metadata": {},
   "source": [
    "Muestreo hacia adelante:"
   ]
  },
  {
   "cell_type": "code",
   "execution_count": null,
   "metadata": {},
   "outputs": [],
   "source": [
    "# Import pgmpy.sampling.BayesianModelSampling\n"
   ]
  },
  {
   "cell_type": "code",
   "execution_count": null,
   "metadata": {},
   "outputs": [],
   "source": [
    "# Instantiate a sampling object\n"
   ]
  },
  {
   "cell_type": "code",
   "execution_count": null,
   "metadata": {},
   "outputs": [],
   "source": [
    "# Number of samples for error of 1% and confidence of 99%\n"
   ]
  },
  {
   "cell_type": "code",
   "execution_count": null,
   "metadata": {},
   "outputs": [],
   "source": [
    "# Generate samples\n"
   ]
  },
  {
   "cell_type": "code",
   "execution_count": null,
   "metadata": {},
   "outputs": [],
   "source": [
    "# Estimation of P(C)\n"
   ]
  },
  {
   "cell_type": "code",
   "execution_count": null,
   "metadata": {},
   "outputs": [],
   "source": [
    "# Compare\n"
   ]
  },
  {
   "cell_type": "markdown",
   "metadata": {},
   "source": [
    "<script>\n",
    "  $(document).ready(function(){\n",
    "    $('div.prompt').hide();\n",
    "    $('div.back-to-top').hide();\n",
    "    $('nav#menubar').hide();\n",
    "    $('.breadcrumb').hide();\n",
    "    $('.hidden-print').hide();\n",
    "  });\n",
    "</script>\n",
    "\n",
    "<footer id=\"attribution\" style=\"float:right; color:#808080; background:#fff;\">\n",
    "Created with Jupyter by Esteban Jiménez Rodríguez.\n",
    "</footer>"
   ]
  }
 ],
 "metadata": {
  "kernelspec": {
   "display_name": "Python 3",
   "language": "python",
   "name": "python3"
  },
  "language_info": {
   "codemirror_mode": {
    "name": "ipython",
    "version": 3
   },
   "file_extension": ".py",
   "mimetype": "text/x-python",
   "name": "python",
   "nbconvert_exporter": "python",
   "pygments_lexer": "ipython3",
   "version": "3.7.6"
  }
 },
 "nbformat": 4,
 "nbformat_minor": 4
}
